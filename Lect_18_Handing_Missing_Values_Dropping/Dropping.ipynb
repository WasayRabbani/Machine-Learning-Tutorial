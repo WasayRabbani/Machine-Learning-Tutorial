{
 "cells": [
  {
   "cell_type": "markdown",
   "id": "bee68f53",
   "metadata": {},
   "source": [
    "### Lecture 18: Dropping Missing Values in Pandas (Complete Case Analysis)"
   ]
  },
  {
   "cell_type": "markdown",
   "id": "e868784a",
   "metadata": {},
   "source": [
    "Steps\n",
    "1. Checking which columns have MCAR < 5% (Missing completely at random)\n",
    "2. Seperating columns which have less than 5% missing values\n",
    "  <br> a. Making sure Nan Values are MCAR\n",
    "3. How much rows will be left after dropping NaN values\n",
    "4. Dropping Rows with NaN Values\n",
    "5. Visualizing Changes"
   ]
  },
  {
   "cell_type": "markdown",
   "id": "fc98836a",
   "metadata": {},
   "source": [
    "Importing Useful Libraries"
   ]
  },
  {
   "cell_type": "code",
   "execution_count": 32,
   "id": "1180a443",
   "metadata": {},
   "outputs": [],
   "source": [
    "import pandas as pd\n",
    "import matplotlib.pyplot as plt"
   ]
  },
  {
   "cell_type": "markdown",
   "id": "2752024b",
   "metadata": {},
   "source": [
    "Importing Data"
   ]
  },
  {
   "cell_type": "code",
   "execution_count": 33,
   "id": "d0ad976e",
   "metadata": {},
   "outputs": [
    {
     "data": {
      "text/html": [
       "<div>\n",
       "<style scoped>\n",
       "    .dataframe tbody tr th:only-of-type {\n",
       "        vertical-align: middle;\n",
       "    }\n",
       "\n",
       "    .dataframe tbody tr th {\n",
       "        vertical-align: top;\n",
       "    }\n",
       "\n",
       "    .dataframe thead th {\n",
       "        text-align: right;\n",
       "    }\n",
       "</style>\n",
       "<table border=\"1\" class=\"dataframe\">\n",
       "  <thead>\n",
       "    <tr style=\"text-align: right;\">\n",
       "      <th></th>\n",
       "      <th>name</th>\n",
       "      <th>mpg</th>\n",
       "      <th>cylinders</th>\n",
       "      <th>displacement</th>\n",
       "      <th>horsepower</th>\n",
       "      <th>weight</th>\n",
       "      <th>acceleration</th>\n",
       "      <th>model_year</th>\n",
       "      <th>origin</th>\n",
       "    </tr>\n",
       "  </thead>\n",
       "  <tbody>\n",
       "    <tr>\n",
       "      <th>0</th>\n",
       "      <td>chevrolet chevelle malibu</td>\n",
       "      <td>18.0</td>\n",
       "      <td>8</td>\n",
       "      <td>307.0</td>\n",
       "      <td>130.0</td>\n",
       "      <td>3504</td>\n",
       "      <td>12.0</td>\n",
       "      <td>70</td>\n",
       "      <td>usa</td>\n",
       "    </tr>\n",
       "    <tr>\n",
       "      <th>1</th>\n",
       "      <td>buick skylark 320</td>\n",
       "      <td>15.0</td>\n",
       "      <td>8</td>\n",
       "      <td>350.0</td>\n",
       "      <td>165.0</td>\n",
       "      <td>3693</td>\n",
       "      <td>11.5</td>\n",
       "      <td>70</td>\n",
       "      <td>usa</td>\n",
       "    </tr>\n",
       "    <tr>\n",
       "      <th>2</th>\n",
       "      <td>plymouth satellite</td>\n",
       "      <td>18.0</td>\n",
       "      <td>8</td>\n",
       "      <td>318.0</td>\n",
       "      <td>150.0</td>\n",
       "      <td>3436</td>\n",
       "      <td>11.0</td>\n",
       "      <td>70</td>\n",
       "      <td>usa</td>\n",
       "    </tr>\n",
       "    <tr>\n",
       "      <th>3</th>\n",
       "      <td>amc rebel sst</td>\n",
       "      <td>16.0</td>\n",
       "      <td>8</td>\n",
       "      <td>304.0</td>\n",
       "      <td>150.0</td>\n",
       "      <td>3433</td>\n",
       "      <td>12.0</td>\n",
       "      <td>70</td>\n",
       "      <td>usa</td>\n",
       "    </tr>\n",
       "    <tr>\n",
       "      <th>4</th>\n",
       "      <td>ford torino</td>\n",
       "      <td>NaN</td>\n",
       "      <td>8</td>\n",
       "      <td>NaN</td>\n",
       "      <td>140.0</td>\n",
       "      <td>3449</td>\n",
       "      <td>NaN</td>\n",
       "      <td>70</td>\n",
       "      <td>usa</td>\n",
       "    </tr>\n",
       "  </tbody>\n",
       "</table>\n",
       "</div>"
      ],
      "text/plain": [
       "                        name   mpg  cylinders  displacement  horsepower  \\\n",
       "0  chevrolet chevelle malibu  18.0          8         307.0       130.0   \n",
       "1          buick skylark 320  15.0          8         350.0       165.0   \n",
       "2         plymouth satellite  18.0          8         318.0       150.0   \n",
       "3              amc rebel sst  16.0          8         304.0       150.0   \n",
       "4                ford torino   NaN          8           NaN       140.0   \n",
       "\n",
       "   weight  acceleration  model_year origin  \n",
       "0    3504          12.0          70    usa  \n",
       "1    3693          11.5          70    usa  \n",
       "2    3436          11.0          70    usa  \n",
       "3    3433          12.0          70    usa  \n",
       "4    3449           NaN          70    usa  "
      ]
     },
     "execution_count": 33,
     "metadata": {},
     "output_type": "execute_result"
    }
   ],
   "source": [
    "df=pd.read_csv('Automobile.csv')\n",
    "df.head()"
   ]
  },
  {
   "cell_type": "markdown",
   "id": "5908dd15",
   "metadata": {},
   "source": [
    "Step 1"
   ]
  },
  {
   "cell_type": "code",
   "execution_count": 34,
   "id": "eb62a45a",
   "metadata": {},
   "outputs": [
    {
     "data": {
      "text/plain": [
       "name            0.000000\n",
       "mpg             4.271357\n",
       "cylinders       0.000000\n",
       "displacement    3.015075\n",
       "horsepower      3.517588\n",
       "weight          0.000000\n",
       "acceleration    8.542714\n",
       "model_year      0.000000\n",
       "origin          4.773869\n",
       "dtype: float64"
      ]
     },
     "execution_count": 34,
     "metadata": {},
     "output_type": "execute_result"
    }
   ],
   "source": [
    "df.isnull().mean()*100"
   ]
  },
  {
   "cell_type": "markdown",
   "id": "0570fa64",
   "metadata": {},
   "source": [
    "Step 2"
   ]
  },
  {
   "cell_type": "code",
   "execution_count": 35,
   "id": "a2b3f98a",
   "metadata": {},
   "outputs": [
    {
     "name": "stdout",
     "output_type": "stream",
     "text": [
      "['mpg', 'displacement', 'horsepower', 'origin']\n"
     ]
    }
   ],
   "source": [
    "cols=[var for var in df.columns if df[var].isnull().mean()<0.05 and df[var].isnull().mean()>0]\n",
    "print(cols)"
   ]
  },
  {
   "cell_type": "code",
   "execution_count": 36,
   "id": "8df99b8b",
   "metadata": {},
   "outputs": [
    {
     "data": {
      "text/html": [
       "<div>\n",
       "<style scoped>\n",
       "    .dataframe tbody tr th:only-of-type {\n",
       "        vertical-align: middle;\n",
       "    }\n",
       "\n",
       "    .dataframe tbody tr th {\n",
       "        vertical-align: top;\n",
       "    }\n",
       "\n",
       "    .dataframe thead th {\n",
       "        text-align: right;\n",
       "    }\n",
       "</style>\n",
       "<table border=\"1\" class=\"dataframe\">\n",
       "  <thead>\n",
       "    <tr style=\"text-align: right;\">\n",
       "      <th></th>\n",
       "      <th>mpg</th>\n",
       "      <th>displacement</th>\n",
       "      <th>horsepower</th>\n",
       "      <th>origin</th>\n",
       "    </tr>\n",
       "  </thead>\n",
       "  <tbody>\n",
       "    <tr>\n",
       "      <th>157</th>\n",
       "      <td>15.0</td>\n",
       "      <td>350.0</td>\n",
       "      <td>145.0</td>\n",
       "      <td>usa</td>\n",
       "    </tr>\n",
       "    <tr>\n",
       "      <th>126</th>\n",
       "      <td>21.0</td>\n",
       "      <td>200.0</td>\n",
       "      <td>21.0</td>\n",
       "      <td>usa</td>\n",
       "    </tr>\n",
       "    <tr>\n",
       "      <th>385</th>\n",
       "      <td>38.0</td>\n",
       "      <td>91.0</td>\n",
       "      <td>67.0</td>\n",
       "      <td>japan</td>\n",
       "    </tr>\n",
       "    <tr>\n",
       "      <th>326</th>\n",
       "      <td>43.4</td>\n",
       "      <td>90.0</td>\n",
       "      <td>48.0</td>\n",
       "      <td>europe</td>\n",
       "    </tr>\n",
       "    <tr>\n",
       "      <th>55</th>\n",
       "      <td>27.0</td>\n",
       "      <td>97.0</td>\n",
       "      <td>60.0</td>\n",
       "      <td>europe</td>\n",
       "    </tr>\n",
       "    <tr>\n",
       "      <th>352</th>\n",
       "      <td>29.9</td>\n",
       "      <td>98.0</td>\n",
       "      <td>65.0</td>\n",
       "      <td>usa</td>\n",
       "    </tr>\n",
       "    <tr>\n",
       "      <th>74</th>\n",
       "      <td>13.0</td>\n",
       "      <td>302.0</td>\n",
       "      <td>140.0</td>\n",
       "      <td>usa</td>\n",
       "    </tr>\n",
       "    <tr>\n",
       "      <th>84</th>\n",
       "      <td>27.0</td>\n",
       "      <td>NaN</td>\n",
       "      <td>88.0</td>\n",
       "      <td>japan</td>\n",
       "    </tr>\n",
       "    <tr>\n",
       "      <th>383</th>\n",
       "      <td>38.0</td>\n",
       "      <td>91.0</td>\n",
       "      <td>67.0</td>\n",
       "      <td>japan</td>\n",
       "    </tr>\n",
       "    <tr>\n",
       "      <th>247</th>\n",
       "      <td>39.4</td>\n",
       "      <td>85.0</td>\n",
       "      <td>70.0</td>\n",
       "      <td>japan</td>\n",
       "    </tr>\n",
       "  </tbody>\n",
       "</table>\n",
       "</div>"
      ],
      "text/plain": [
       "      mpg  displacement  horsepower  origin\n",
       "157  15.0         350.0       145.0     usa\n",
       "126  21.0         200.0        21.0     usa\n",
       "385  38.0          91.0        67.0   japan\n",
       "326  43.4          90.0        48.0  europe\n",
       "55   27.0          97.0        60.0  europe\n",
       "352  29.9          98.0        65.0     usa\n",
       "74   13.0         302.0       140.0     usa\n",
       "84   27.0           NaN        88.0   japan\n",
       "383  38.0          91.0        67.0   japan\n",
       "247  39.4          85.0        70.0   japan"
      ]
     },
     "execution_count": 36,
     "metadata": {},
     "output_type": "execute_result"
    }
   ],
   "source": [
    "df[cols].sample(10)"
   ]
  },
  {
   "cell_type": "markdown",
   "id": "4b08803e",
   "metadata": {},
   "source": [
    "Step 3"
   ]
  },
  {
   "cell_type": "code",
   "execution_count": 37,
   "id": "bb1d6c52",
   "metadata": {},
   "outputs": [
    {
     "data": {
      "text/plain": [
       "0.8592964824120602"
      ]
     },
     "execution_count": 37,
     "metadata": {},
     "output_type": "execute_result"
    }
   ],
   "source": [
    "len(df[cols].dropna())/len(df)"
   ]
  },
  {
   "cell_type": "code",
   "execution_count": 38,
   "id": "854a8978",
   "metadata": {},
   "outputs": [
    {
     "data": {
      "text/plain": [
       "(398, 9)"
      ]
     },
     "execution_count": 38,
     "metadata": {},
     "output_type": "execute_result"
    }
   ],
   "source": [
    "df.shape\n",
    "#checking how many rows were there"
   ]
  },
  {
   "cell_type": "markdown",
   "id": "0b87edaf",
   "metadata": {},
   "source": [
    "Step 4"
   ]
  },
  {
   "cell_type": "markdown",
   "id": "92bef7cd",
   "metadata": {},
   "source": [
    "Real world case"
   ]
  },
  {
   "cell_type": "code",
   "execution_count": 39,
   "id": "6fb963bf",
   "metadata": {},
   "outputs": [],
   "source": [
    "# df.dropna(subset=cols)"
   ]
  },
  {
   "cell_type": "code",
   "execution_count": 40,
   "id": "aae7036f",
   "metadata": {},
   "outputs": [],
   "source": [
    "cleanedDf=df[cols].dropna()"
   ]
  },
  {
   "cell_type": "code",
   "execution_count": 41,
   "id": "95e60bed",
   "metadata": {},
   "outputs": [
    {
     "data": {
      "text/plain": [
       "mpg             0.0\n",
       "displacement    0.0\n",
       "horsepower      0.0\n",
       "origin          0.0\n",
       "dtype: float64"
      ]
     },
     "execution_count": 41,
     "metadata": {},
     "output_type": "execute_result"
    }
   ],
   "source": [
    "cleanedDf.isnull().mean()"
   ]
  },
  {
   "cell_type": "markdown",
   "id": "78bd7f29",
   "metadata": {},
   "source": [
    "Step 5"
   ]
  },
  {
   "cell_type": "markdown",
   "id": "46a0cd1c",
   "metadata": {},
   "source": [
    "Numerical Columns: mpg\tdisplacement\thorsepower"
   ]
  },
  {
   "cell_type": "code",
   "execution_count": 42,
   "id": "9ceeda90",
   "metadata": {},
   "outputs": [
    {
     "data": {
      "text/plain": [
       "<matplotlib.legend.Legend at 0x276273f4320>"
      ]
     },
     "execution_count": 42,
     "metadata": {},
     "output_type": "execute_result"
    },
    {
     "data": {
      "image/png": "[encoded data removed]",
      "text/plain": [
       "<Figure size 640x480 with 1 Axes>"
      ]
     },
     "metadata": {},
     "output_type": "display_data"
    }
   ],
   "source": [
    "# mpg\n",
    "fig=plt.figure()\n",
    "axis=fig.add_subplot(111)\n",
    "\n",
    "df['mpg'].plot(kind='kde',ax=axis,label='Before')\n",
    "cleanedDf['mpg'].plot(kind='kde',ax=axis,label='After')\n",
    "plt.legend()"
   ]
  },
  {
   "cell_type": "code",
   "execution_count": 43,
   "id": "d97d195f",
   "metadata": {},
   "outputs": [
    {
     "data": {
      "text/plain": [
       "<matplotlib.legend.Legend at 0x276272bef60>"
      ]
     },
     "execution_count": 43,
     "metadata": {},
     "output_type": "execute_result"
    },
    {
     "data": {
      "image/png": "[encoded data removed]",
      "text/plain": [
       "<Figure size 640x480 with 1 Axes>"
      ]
     },
     "metadata": {},
     "output_type": "display_data"
    }
   ],
   "source": [
    "# displacement\n",
    "fig=plt.figure()\n",
    "axis=fig.add_subplot(111)\n",
    "\n",
    "df['displacement'].plot(kind='kde',ax=axis,label='Before')\n",
    "cleanedDf['displacement'].plot(kind='kde',ax=axis,label='After')\n",
    "plt.legend()"
   ]
  },
  {
   "cell_type": "code",
   "execution_count": 44,
   "id": "442ac2b0",
   "metadata": {},
   "outputs": [
    {
     "data": {
      "text/plain": [
       "<matplotlib.legend.Legend at 0x276272bc1d0>"
      ]
     },
     "execution_count": 44,
     "metadata": {},
     "output_type": "execute_result"
    },
    {
     "data": {
      "image/png": "[encoded data removed]",
      "text/plain": [
       "<Figure size 640x480 with 1 Axes>"
      ]
     },
     "metadata": {},
     "output_type": "display_data"
    }
   ],
   "source": [
    "# horsepower\n",
    "fig=plt.figure()\n",
    "axis=fig.add_subplot(111)\n",
    "\n",
    "df['horsepower'].plot(kind='kde',ax=axis,label='Before')\n",
    "cleanedDf['horsepower'].plot(kind='kde',ax=axis,label='After')\n",
    "plt.legend()"
   ]
  },
  {
   "cell_type": "markdown",
   "id": "20deb591",
   "metadata": {},
   "source": [
    "Categorical"
   ]
  },
  {
   "cell_type": "code",
   "execution_count": 45,
   "id": "a8282f52",
   "metadata": {},
   "outputs": [
    {
     "data": {
      "text/html": [
       "<div>\n",
       "<style scoped>\n",
       "    .dataframe tbody tr th:only-of-type {\n",
       "        vertical-align: middle;\n",
       "    }\n",
       "\n",
       "    .dataframe tbody tr th {\n",
       "        vertical-align: top;\n",
       "    }\n",
       "\n",
       "    .dataframe thead th {\n",
       "        text-align: right;\n",
       "    }\n",
       "</style>\n",
       "<table border=\"1\" class=\"dataframe\">\n",
       "  <thead>\n",
       "    <tr style=\"text-align: right;\">\n",
       "      <th></th>\n",
       "      <th>Original</th>\n",
       "      <th>CCA</th>\n",
       "    </tr>\n",
       "    <tr>\n",
       "      <th>origin</th>\n",
       "      <th></th>\n",
       "      <th></th>\n",
       "    </tr>\n",
       "  </thead>\n",
       "  <tbody>\n",
       "    <tr>\n",
       "      <th>usa</th>\n",
       "      <td>0.608040</td>\n",
       "      <td>0.646199</td>\n",
       "    </tr>\n",
       "    <tr>\n",
       "      <th>japan</th>\n",
       "      <td>0.183417</td>\n",
       "      <td>0.195906</td>\n",
       "    </tr>\n",
       "    <tr>\n",
       "      <th>europe</th>\n",
       "      <td>0.160804</td>\n",
       "      <td>0.157895</td>\n",
       "    </tr>\n",
       "  </tbody>\n",
       "</table>\n",
       "</div>"
      ],
      "text/plain": [
       "        Original       CCA\n",
       "origin                    \n",
       "usa     0.608040  0.646199\n",
       "japan   0.183417  0.195906\n",
       "europe  0.160804  0.157895"
      ]
     },
     "execution_count": 45,
     "metadata": {},
     "output_type": "execute_result"
    }
   ],
   "source": [
    "newDf=pd.concat(\n",
    "    \n",
    "    [\n",
    "        \n",
    "        df['origin'].value_counts()/len(df),\n",
    "\n",
    "       \n",
    "        \n",
    "        cleanedDf['origin'].value_counts()/len(cleanedDf)\n",
    "    ],axis=1\n",
    ")\n",
    "\n",
    "newDf.columns=['Original','CCA']\n",
    "\n",
    "newDf"
   ]
  },
  {
   "cell_type": "code",
   "execution_count": null,
   "id": "0b50da7b",
   "metadata": {},
   "outputs": [],
   "source": []
  }
 ],
 "metadata": {
  "kernelspec": {
   "display_name": "venv",
   "language": "python",
   "name": "python3"
  },
  "language_info": {
   "codemirror_mode": {
    "name": "ipython",
    "version": 3
   },
   "file_extension": ".py",
   "mimetype": "text/x-python",
   "name": "python",
   "nbconvert_exporter": "python",
   "pygments_lexer": "ipython3",
   "version": "3.12.5"
  }
 },
 "nbformat": 4,
 "nbformat_minor": 5
}
