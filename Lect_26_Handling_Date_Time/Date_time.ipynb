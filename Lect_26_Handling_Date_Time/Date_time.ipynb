{
 "cells": [
  {
   "cell_type": "markdown",
   "id": "4bd1c38e",
   "metadata": {},
   "source": [
    "### Lecture 26: Handling Date & Time"
   ]
  },
  {
   "cell_type": "markdown",
   "id": "032037c6",
   "metadata": {},
   "source": [
    "Importing Libraries"
   ]
  },
  {
   "cell_type": "code",
   "execution_count": 1,
   "id": "3f7d078c",
   "metadata": {},
   "outputs": [],
   "source": [
    "import pandas as pd\n",
    "import numpy as np"
   ]
  },
  {
   "cell_type": "markdown",
   "id": "2062798e",
   "metadata": {},
   "source": [
    "Importing Data"
   ]
  },
  {
   "cell_type": "code",
   "execution_count": 2,
   "id": "bdc0ba3a",
   "metadata": {},
   "outputs": [
    {
     "data": {
      "text/html": [
       "<div>\n",
       "<style scoped>\n",
       "    .dataframe tbody tr th:only-of-type {\n",
       "        vertical-align: middle;\n",
       "    }\n",
       "\n",
       "    .dataframe tbody tr th {\n",
       "        vertical-align: top;\n",
       "    }\n",
       "\n",
       "    .dataframe thead th {\n",
       "        text-align: right;\n",
       "    }\n",
       "</style>\n",
       "<table border=\"1\" class=\"dataframe\">\n",
       "  <thead>\n",
       "    <tr style=\"text-align: right;\">\n",
       "      <th></th>\n",
       "      <th>Date</th>\n",
       "      <th>Time</th>\n",
       "    </tr>\n",
       "  </thead>\n",
       "  <tbody>\n",
       "    <tr>\n",
       "      <th>0</th>\n",
       "      <td>01/02/1965</td>\n",
       "      <td>13:44:18</td>\n",
       "    </tr>\n",
       "    <tr>\n",
       "      <th>1</th>\n",
       "      <td>01/04/1965</td>\n",
       "      <td>11:29:49</td>\n",
       "    </tr>\n",
       "    <tr>\n",
       "      <th>2</th>\n",
       "      <td>01/05/1965</td>\n",
       "      <td>18:05:58</td>\n",
       "    </tr>\n",
       "    <tr>\n",
       "      <th>3</th>\n",
       "      <td>01/08/1965</td>\n",
       "      <td>18:49:43</td>\n",
       "    </tr>\n",
       "    <tr>\n",
       "      <th>4</th>\n",
       "      <td>01/09/1965</td>\n",
       "      <td>13:32:50</td>\n",
       "    </tr>\n",
       "  </tbody>\n",
       "</table>\n",
       "</div>"
      ],
      "text/plain": [
       "         Date      Time\n",
       "0  01/02/1965  13:44:18\n",
       "1  01/04/1965  11:29:49\n",
       "2  01/05/1965  18:05:58\n",
       "3  01/08/1965  18:49:43\n",
       "4  01/09/1965  13:32:50"
      ]
     },
     "execution_count": 2,
     "metadata": {},
     "output_type": "execute_result"
    }
   ],
   "source": [
    "df=pd.read_csv('database.csv',usecols=['Date','Time'])\n",
    "df.head()"
   ]
  },
  {
   "cell_type": "markdown",
   "id": "dca474a0",
   "metadata": {},
   "source": [
    "Checking Type of columns"
   ]
  },
  {
   "cell_type": "code",
   "execution_count": 3,
   "id": "3e183572",
   "metadata": {},
   "outputs": [
    {
     "name": "stdout",
     "output_type": "stream",
     "text": [
      "<class 'pandas.core.frame.DataFrame'>\n",
      "RangeIndex: 23412 entries, 0 to 23411\n",
      "Data columns (total 2 columns):\n",
      " #   Column  Non-Null Count  Dtype \n",
      "---  ------  --------------  ----- \n",
      " 0   Date    23412 non-null  object\n",
      " 1   Time    23412 non-null  object\n",
      "dtypes: object(2)\n",
      "memory usage: 365.9+ KB\n"
     ]
    }
   ],
   "source": [
    "df.info()"
   ]
  },
  {
   "cell_type": "code",
   "execution_count": 4,
   "id": "edb6d472",
   "metadata": {},
   "outputs": [],
   "source": [
    "# As here type is object so we can't do date related stuff so for that change it to data\n",
    "df['Date'] = pd.to_datetime(df['Date'], errors='coerce')\n",
    "df['Time'] = pd.to_datetime(df['Time'],format='%H:%M:%S', errors='coerce')\n"
   ]
  },
  {
   "cell_type": "code",
   "execution_count": 5,
   "id": "36ed8c65",
   "metadata": {},
   "outputs": [
    {
     "name": "stdout",
     "output_type": "stream",
     "text": [
      "<class 'pandas.core.frame.DataFrame'>\n",
      "RangeIndex: 23412 entries, 0 to 23411\n",
      "Data columns (total 2 columns):\n",
      " #   Column  Non-Null Count  Dtype         \n",
      "---  ------  --------------  -----         \n",
      " 0   Date    23409 non-null  datetime64[ns]\n",
      " 1   Time    23409 non-null  datetime64[ns]\n",
      "dtypes: datetime64[ns](2)\n",
      "memory usage: 365.9 KB\n"
     ]
    }
   ],
   "source": [
    "df.info()"
   ]
  },
  {
   "cell_type": "markdown",
   "id": "c0a4d2bb",
   "metadata": {},
   "source": [
    "## Date Functions"
   ]
  },
  {
   "cell_type": "markdown",
   "id": "ce6e7fb6",
   "metadata": {},
   "source": [
    "Extract Year"
   ]
  },
  {
   "cell_type": "code",
   "execution_count": 6,
   "id": "b49875b5",
   "metadata": {},
   "outputs": [
    {
     "data": {
      "text/html": [
       "<div>\n",
       "<style scoped>\n",
       "    .dataframe tbody tr th:only-of-type {\n",
       "        vertical-align: middle;\n",
       "    }\n",
       "\n",
       "    .dataframe tbody tr th {\n",
       "        vertical-align: top;\n",
       "    }\n",
       "\n",
       "    .dataframe thead th {\n",
       "        text-align: right;\n",
       "    }\n",
       "</style>\n",
       "<table border=\"1\" class=\"dataframe\">\n",
       "  <thead>\n",
       "    <tr style=\"text-align: right;\">\n",
       "      <th></th>\n",
       "      <th>Date</th>\n",
       "      <th>Time</th>\n",
       "      <th>Year</th>\n",
       "    </tr>\n",
       "  </thead>\n",
       "  <tbody>\n",
       "    <tr>\n",
       "      <th>2046</th>\n",
       "      <td>1971-08-10</td>\n",
       "      <td>1900-01-01 14:37:56</td>\n",
       "      <td>1971.0</td>\n",
       "    </tr>\n",
       "    <tr>\n",
       "      <th>3319</th>\n",
       "      <td>1974-12-05</td>\n",
       "      <td>1900-01-01 11:57:31</td>\n",
       "      <td>1974.0</td>\n",
       "    </tr>\n",
       "    <tr>\n",
       "      <th>17064</th>\n",
       "      <td>2004-12-13</td>\n",
       "      <td>1900-01-01 12:00:12</td>\n",
       "      <td>2004.0</td>\n",
       "    </tr>\n",
       "    <tr>\n",
       "      <th>49</th>\n",
       "      <td>1965-02-08</td>\n",
       "      <td>1900-01-01 15:46:52</td>\n",
       "      <td>1965.0</td>\n",
       "    </tr>\n",
       "  </tbody>\n",
       "</table>\n",
       "</div>"
      ],
      "text/plain": [
       "            Date                Time    Year\n",
       "2046  1971-08-10 1900-01-01 14:37:56  1971.0\n",
       "3319  1974-12-05 1900-01-01 11:57:31  1974.0\n",
       "17064 2004-12-13 1900-01-01 12:00:12  2004.0\n",
       "49    1965-02-08 1900-01-01 15:46:52  1965.0"
      ]
     },
     "execution_count": 6,
     "metadata": {},
     "output_type": "execute_result"
    }
   ],
   "source": [
    "df['Year']=df['Date'].dt.year\n",
    "df.sample(4)"
   ]
  },
  {
   "cell_type": "markdown",
   "id": "170198a1",
   "metadata": {},
   "source": [
    "Extract Month"
   ]
  },
  {
   "cell_type": "code",
   "execution_count": 7,
   "id": "138fefc0",
   "metadata": {},
   "outputs": [],
   "source": [
    "df['Month']=df['Date'].dt.month"
   ]
  },
  {
   "cell_type": "markdown",
   "id": "a1ed0720",
   "metadata": {},
   "source": [
    "Extarct Month Name"
   ]
  },
  {
   "cell_type": "code",
   "execution_count": 8,
   "id": "95615373",
   "metadata": {},
   "outputs": [],
   "source": [
    "df['Month_Name']=df['Date'].dt.month_name()"
   ]
  },
  {
   "cell_type": "code",
   "execution_count": 9,
   "id": "5c863046",
   "metadata": {},
   "outputs": [
    {
     "data": {
      "text/html": [
       "<div>\n",
       "<style scoped>\n",
       "    .dataframe tbody tr th:only-of-type {\n",
       "        vertical-align: middle;\n",
       "    }\n",
       "\n",
       "    .dataframe tbody tr th {\n",
       "        vertical-align: top;\n",
       "    }\n",
       "\n",
       "    .dataframe thead th {\n",
       "        text-align: right;\n",
       "    }\n",
       "</style>\n",
       "<table border=\"1\" class=\"dataframe\">\n",
       "  <thead>\n",
       "    <tr style=\"text-align: right;\">\n",
       "      <th></th>\n",
       "      <th>Date</th>\n",
       "      <th>Time</th>\n",
       "      <th>Year</th>\n",
       "      <th>Month</th>\n",
       "      <th>Month_Name</th>\n",
       "    </tr>\n",
       "  </thead>\n",
       "  <tbody>\n",
       "    <tr>\n",
       "      <th>14470</th>\n",
       "      <td>1999-08-12</td>\n",
       "      <td>1900-01-01 05:45:00</td>\n",
       "      <td>1999.0</td>\n",
       "      <td>8.0</td>\n",
       "      <td>August</td>\n",
       "    </tr>\n",
       "    <tr>\n",
       "      <th>11629</th>\n",
       "      <td>1993-09-29</td>\n",
       "      <td>1900-01-01 09:39:21</td>\n",
       "      <td>1993.0</td>\n",
       "      <td>9.0</td>\n",
       "      <td>September</td>\n",
       "    </tr>\n",
       "    <tr>\n",
       "      <th>5554</th>\n",
       "      <td>1980-06-11</td>\n",
       "      <td>1900-01-01 14:21:19</td>\n",
       "      <td>1980.0</td>\n",
       "      <td>6.0</td>\n",
       "      <td>June</td>\n",
       "    </tr>\n",
       "    <tr>\n",
       "      <th>10940</th>\n",
       "      <td>1992-06-03</td>\n",
       "      <td>1900-01-01 01:55:13</td>\n",
       "      <td>1992.0</td>\n",
       "      <td>6.0</td>\n",
       "      <td>June</td>\n",
       "    </tr>\n",
       "    <tr>\n",
       "      <th>18132</th>\n",
       "      <td>2006-11-15</td>\n",
       "      <td>1900-01-01 21:35:10</td>\n",
       "      <td>2006.0</td>\n",
       "      <td>11.0</td>\n",
       "      <td>November</td>\n",
       "    </tr>\n",
       "  </tbody>\n",
       "</table>\n",
       "</div>"
      ],
      "text/plain": [
       "            Date                Time    Year  Month Month_Name\n",
       "14470 1999-08-12 1900-01-01 05:45:00  1999.0    8.0     August\n",
       "11629 1993-09-29 1900-01-01 09:39:21  1993.0    9.0  September\n",
       "5554  1980-06-11 1900-01-01 14:21:19  1980.0    6.0       June\n",
       "10940 1992-06-03 1900-01-01 01:55:13  1992.0    6.0       June\n",
       "18132 2006-11-15 1900-01-01 21:35:10  2006.0   11.0   November"
      ]
     },
     "execution_count": 9,
     "metadata": {},
     "output_type": "execute_result"
    }
   ],
   "source": [
    "df.sample(5)"
   ]
  },
  {
   "cell_type": "markdown",
   "id": "94468ad1",
   "metadata": {},
   "source": [
    "Extract Days"
   ]
  },
  {
   "cell_type": "code",
   "execution_count": 10,
   "id": "5f5dd9d3",
   "metadata": {},
   "outputs": [],
   "source": [
    "df['Day']=df['Date'].dt.day"
   ]
  },
  {
   "cell_type": "markdown",
   "id": "25a95168",
   "metadata": {},
   "source": [
    "Extracting Day of week "
   ]
  },
  {
   "cell_type": "code",
   "execution_count": 11,
   "id": "a519b058",
   "metadata": {},
   "outputs": [],
   "source": [
    "df['Day_of_week']=df['Date'].dt.day_of_week"
   ]
  },
  {
   "cell_type": "code",
   "execution_count": 12,
   "id": "f3b5dd1b",
   "metadata": {},
   "outputs": [
    {
     "data": {
      "text/html": [
       "<div>\n",
       "<style scoped>\n",
       "    .dataframe tbody tr th:only-of-type {\n",
       "        vertical-align: middle;\n",
       "    }\n",
       "\n",
       "    .dataframe tbody tr th {\n",
       "        vertical-align: top;\n",
       "    }\n",
       "\n",
       "    .dataframe thead th {\n",
       "        text-align: right;\n",
       "    }\n",
       "</style>\n",
       "<table border=\"1\" class=\"dataframe\">\n",
       "  <thead>\n",
       "    <tr style=\"text-align: right;\">\n",
       "      <th></th>\n",
       "      <th>Date</th>\n",
       "      <th>Time</th>\n",
       "      <th>Year</th>\n",
       "      <th>Month</th>\n",
       "      <th>Month_Name</th>\n",
       "      <th>Day</th>\n",
       "      <th>Day_of_week</th>\n",
       "    </tr>\n",
       "  </thead>\n",
       "  <tbody>\n",
       "    <tr>\n",
       "      <th>0</th>\n",
       "      <td>1965-01-02</td>\n",
       "      <td>1900-01-01 13:44:18</td>\n",
       "      <td>1965.0</td>\n",
       "      <td>1.0</td>\n",
       "      <td>January</td>\n",
       "      <td>2.0</td>\n",
       "      <td>5.0</td>\n",
       "    </tr>\n",
       "    <tr>\n",
       "      <th>1</th>\n",
       "      <td>1965-01-04</td>\n",
       "      <td>1900-01-01 11:29:49</td>\n",
       "      <td>1965.0</td>\n",
       "      <td>1.0</td>\n",
       "      <td>January</td>\n",
       "      <td>4.0</td>\n",
       "      <td>0.0</td>\n",
       "    </tr>\n",
       "    <tr>\n",
       "      <th>2</th>\n",
       "      <td>1965-01-05</td>\n",
       "      <td>1900-01-01 18:05:58</td>\n",
       "      <td>1965.0</td>\n",
       "      <td>1.0</td>\n",
       "      <td>January</td>\n",
       "      <td>5.0</td>\n",
       "      <td>1.0</td>\n",
       "    </tr>\n",
       "    <tr>\n",
       "      <th>3</th>\n",
       "      <td>1965-01-08</td>\n",
       "      <td>1900-01-01 18:49:43</td>\n",
       "      <td>1965.0</td>\n",
       "      <td>1.0</td>\n",
       "      <td>January</td>\n",
       "      <td>8.0</td>\n",
       "      <td>4.0</td>\n",
       "    </tr>\n",
       "    <tr>\n",
       "      <th>4</th>\n",
       "      <td>1965-01-09</td>\n",
       "      <td>1900-01-01 13:32:50</td>\n",
       "      <td>1965.0</td>\n",
       "      <td>1.0</td>\n",
       "      <td>January</td>\n",
       "      <td>9.0</td>\n",
       "      <td>5.0</td>\n",
       "    </tr>\n",
       "  </tbody>\n",
       "</table>\n",
       "</div>"
      ],
      "text/plain": [
       "        Date                Time    Year  Month Month_Name  Day  Day_of_week\n",
       "0 1965-01-02 1900-01-01 13:44:18  1965.0    1.0    January  2.0          5.0\n",
       "1 1965-01-04 1900-01-01 11:29:49  1965.0    1.0    January  4.0          0.0\n",
       "2 1965-01-05 1900-01-01 18:05:58  1965.0    1.0    January  5.0          1.0\n",
       "3 1965-01-08 1900-01-01 18:49:43  1965.0    1.0    January  8.0          4.0\n",
       "4 1965-01-09 1900-01-01 13:32:50  1965.0    1.0    January  9.0          5.0"
      ]
     },
     "execution_count": 12,
     "metadata": {},
     "output_type": "execute_result"
    }
   ],
   "source": [
    "df.head()"
   ]
  },
  {
   "cell_type": "markdown",
   "id": "13baf53d",
   "metadata": {},
   "source": [
    "Extract week of the year"
   ]
  },
  {
   "cell_type": "code",
   "execution_count": 13,
   "id": "95be4cc6",
   "metadata": {},
   "outputs": [],
   "source": [
    "df['Week']=df['Date'].dt.day_of_week"
   ]
  },
  {
   "cell_type": "markdown",
   "id": "107a66a4",
   "metadata": {},
   "source": [
    "Extract Quarter"
   ]
  },
  {
   "cell_type": "code",
   "execution_count": 14,
   "id": "d845fb92",
   "metadata": {},
   "outputs": [],
   "source": [
    "df['Quarter']=df['Date'].dt.quarter"
   ]
  },
  {
   "cell_type": "markdown",
   "id": "4666049c",
   "metadata": {},
   "source": [
    "Extract Semester"
   ]
  },
  {
   "cell_type": "code",
   "execution_count": 15,
   "id": "9b232d52",
   "metadata": {},
   "outputs": [],
   "source": [
    "df['Semester']=np.where(df['Quarter'].isin([1,2]),1,2)\n"
   ]
  },
  {
   "cell_type": "markdown",
   "id": "d6416de0",
   "metadata": {},
   "source": [
    "Checking weekend"
   ]
  },
  {
   "cell_type": "code",
   "execution_count": 16,
   "id": "5291682b",
   "metadata": {},
   "outputs": [],
   "source": [
    "df['Is_weekend']=np.where(df['Day_of_week'].isin(['Saturday','Sunday']),1,0)"
   ]
  },
  {
   "cell_type": "code",
   "execution_count": 17,
   "id": "2c84fc9f",
   "metadata": {},
   "outputs": [
    {
     "data": {
      "text/html": [
       "<div>\n",
       "<style scoped>\n",
       "    .dataframe tbody tr th:only-of-type {\n",
       "        vertical-align: middle;\n",
       "    }\n",
       "\n",
       "    .dataframe tbody tr th {\n",
       "        vertical-align: top;\n",
       "    }\n",
       "\n",
       "    .dataframe thead th {\n",
       "        text-align: right;\n",
       "    }\n",
       "</style>\n",
       "<table border=\"1\" class=\"dataframe\">\n",
       "  <thead>\n",
       "    <tr style=\"text-align: right;\">\n",
       "      <th></th>\n",
       "      <th>Date</th>\n",
       "      <th>Time</th>\n",
       "      <th>Year</th>\n",
       "      <th>Month</th>\n",
       "      <th>Month_Name</th>\n",
       "      <th>Day</th>\n",
       "      <th>Day_of_week</th>\n",
       "      <th>Week</th>\n",
       "      <th>Quarter</th>\n",
       "      <th>Semester</th>\n",
       "      <th>Is_weekend</th>\n",
       "    </tr>\n",
       "  </thead>\n",
       "  <tbody>\n",
       "    <tr>\n",
       "      <th>18781</th>\n",
       "      <td>2007-12-12</td>\n",
       "      <td>1900-01-01 23:40:00</td>\n",
       "      <td>2007.0</td>\n",
       "      <td>12.0</td>\n",
       "      <td>December</td>\n",
       "      <td>12.0</td>\n",
       "      <td>2.0</td>\n",
       "      <td>2.0</td>\n",
       "      <td>4.0</td>\n",
       "      <td>2</td>\n",
       "      <td>0</td>\n",
       "    </tr>\n",
       "    <tr>\n",
       "      <th>13170</th>\n",
       "      <td>1996-08-28</td>\n",
       "      <td>1900-01-01 16:53:12</td>\n",
       "      <td>1996.0</td>\n",
       "      <td>8.0</td>\n",
       "      <td>August</td>\n",
       "      <td>28.0</td>\n",
       "      <td>2.0</td>\n",
       "      <td>2.0</td>\n",
       "      <td>3.0</td>\n",
       "      <td>2</td>\n",
       "      <td>0</td>\n",
       "    </tr>\n",
       "    <tr>\n",
       "      <th>9453</th>\n",
       "      <td>1989-05-01</td>\n",
       "      <td>1900-01-01 08:45:22</td>\n",
       "      <td>1989.0</td>\n",
       "      <td>5.0</td>\n",
       "      <td>May</td>\n",
       "      <td>1.0</td>\n",
       "      <td>0.0</td>\n",
       "      <td>0.0</td>\n",
       "      <td>2.0</td>\n",
       "      <td>1</td>\n",
       "      <td>0</td>\n",
       "    </tr>\n",
       "    <tr>\n",
       "      <th>12841</th>\n",
       "      <td>1996-01-01</td>\n",
       "      <td>1900-01-01 22:41:58</td>\n",
       "      <td>1996.0</td>\n",
       "      <td>1.0</td>\n",
       "      <td>January</td>\n",
       "      <td>1.0</td>\n",
       "      <td>0.0</td>\n",
       "      <td>0.0</td>\n",
       "      <td>1.0</td>\n",
       "      <td>1</td>\n",
       "      <td>0</td>\n",
       "    </tr>\n",
       "    <tr>\n",
       "      <th>12261</th>\n",
       "      <td>1995-01-12</td>\n",
       "      <td>1900-01-01 10:26:47</td>\n",
       "      <td>1995.0</td>\n",
       "      <td>1.0</td>\n",
       "      <td>January</td>\n",
       "      <td>12.0</td>\n",
       "      <td>3.0</td>\n",
       "      <td>3.0</td>\n",
       "      <td>1.0</td>\n",
       "      <td>1</td>\n",
       "      <td>0</td>\n",
       "    </tr>\n",
       "  </tbody>\n",
       "</table>\n",
       "</div>"
      ],
      "text/plain": [
       "            Date                Time    Year  Month Month_Name   Day  \\\n",
       "18781 2007-12-12 1900-01-01 23:40:00  2007.0   12.0   December  12.0   \n",
       "13170 1996-08-28 1900-01-01 16:53:12  1996.0    8.0     August  28.0   \n",
       "9453  1989-05-01 1900-01-01 08:45:22  1989.0    5.0        May   1.0   \n",
       "12841 1996-01-01 1900-01-01 22:41:58  1996.0    1.0    January   1.0   \n",
       "12261 1995-01-12 1900-01-01 10:26:47  1995.0    1.0    January  12.0   \n",
       "\n",
       "       Day_of_week  Week  Quarter  Semester  Is_weekend  \n",
       "18781          2.0   2.0      4.0         2           0  \n",
       "13170          2.0   2.0      3.0         2           0  \n",
       "9453           0.0   0.0      2.0         1           0  \n",
       "12841          0.0   0.0      1.0         1           0  \n",
       "12261          3.0   3.0      1.0         1           0  "
      ]
     },
     "execution_count": 17,
     "metadata": {},
     "output_type": "execute_result"
    }
   ],
   "source": [
    "df.sample(5)"
   ]
  },
  {
   "cell_type": "markdown",
   "id": "f594b796",
   "metadata": {},
   "source": [
    "## Time Functions"
   ]
  },
  {
   "cell_type": "code",
   "execution_count": 18,
   "id": "c03bc5d4",
   "metadata": {},
   "outputs": [],
   "source": [
    "import datetime"
   ]
  },
  {
   "cell_type": "markdown",
   "id": "8c00182b",
   "metadata": {},
   "source": [
    "Getting present date, time"
   ]
  },
  {
   "cell_type": "code",
   "execution_count": 19,
   "id": "f0c9f789",
   "metadata": {},
   "outputs": [
    {
     "name": "stdout",
     "output_type": "stream",
     "text": [
      "2025-08-07 10:41:38.727576\n"
     ]
    }
   ],
   "source": [
    "today=datetime.datetime.today()\n",
    "print(today)"
   ]
  },
  {
   "cell_type": "markdown",
   "id": "929654fa",
   "metadata": {},
   "source": [
    "Extracting Hours, Minutes & Seconds"
   ]
  },
  {
   "cell_type": "code",
   "execution_count": 20,
   "id": "9475509f",
   "metadata": {},
   "outputs": [],
   "source": [
    "df['Hr']=df['Time'].dt.hour\n",
    "df['Min']=df['Time'].dt.minute\n",
    "df['Sec']=df['Time'].dt.second\n"
   ]
  },
  {
   "cell_type": "code",
   "execution_count": 21,
   "id": "d6acf454",
   "metadata": {},
   "outputs": [
    {
     "data": {
      "text/html": [
       "<div>\n",
       "<style scoped>\n",
       "    .dataframe tbody tr th:only-of-type {\n",
       "        vertical-align: middle;\n",
       "    }\n",
       "\n",
       "    .dataframe tbody tr th {\n",
       "        vertical-align: top;\n",
       "    }\n",
       "\n",
       "    .dataframe thead th {\n",
       "        text-align: right;\n",
       "    }\n",
       "</style>\n",
       "<table border=\"1\" class=\"dataframe\">\n",
       "  <thead>\n",
       "    <tr style=\"text-align: right;\">\n",
       "      <th></th>\n",
       "      <th>Date</th>\n",
       "      <th>Time</th>\n",
       "      <th>Year</th>\n",
       "      <th>Month</th>\n",
       "      <th>Month_Name</th>\n",
       "      <th>Day</th>\n",
       "      <th>Day_of_week</th>\n",
       "      <th>Week</th>\n",
       "      <th>Quarter</th>\n",
       "      <th>Semester</th>\n",
       "      <th>Is_weekend</th>\n",
       "      <th>Hr</th>\n",
       "      <th>Min</th>\n",
       "      <th>Sec</th>\n",
       "    </tr>\n",
       "  </thead>\n",
       "  <tbody>\n",
       "    <tr>\n",
       "      <th>9482</th>\n",
       "      <td>1989-05-21</td>\n",
       "      <td>1900-01-01 19:30:07</td>\n",
       "      <td>1989.0</td>\n",
       "      <td>5.0</td>\n",
       "      <td>May</td>\n",
       "      <td>21.0</td>\n",
       "      <td>6.0</td>\n",
       "      <td>6.0</td>\n",
       "      <td>2.0</td>\n",
       "      <td>1</td>\n",
       "      <td>0</td>\n",
       "      <td>19.0</td>\n",
       "      <td>30.0</td>\n",
       "      <td>7.0</td>\n",
       "    </tr>\n",
       "    <tr>\n",
       "      <th>6909</th>\n",
       "      <td>1984-02-03</td>\n",
       "      <td>1900-01-01 19:05:36</td>\n",
       "      <td>1984.0</td>\n",
       "      <td>2.0</td>\n",
       "      <td>February</td>\n",
       "      <td>3.0</td>\n",
       "      <td>4.0</td>\n",
       "      <td>4.0</td>\n",
       "      <td>1.0</td>\n",
       "      <td>1</td>\n",
       "      <td>0</td>\n",
       "      <td>19.0</td>\n",
       "      <td>5.0</td>\n",
       "      <td>36.0</td>\n",
       "    </tr>\n",
       "  </tbody>\n",
       "</table>\n",
       "</div>"
      ],
      "text/plain": [
       "           Date                Time    Year  Month Month_Name   Day  \\\n",
       "9482 1989-05-21 1900-01-01 19:30:07  1989.0    5.0        May  21.0   \n",
       "6909 1984-02-03 1900-01-01 19:05:36  1984.0    2.0   February   3.0   \n",
       "\n",
       "      Day_of_week  Week  Quarter  Semester  Is_weekend    Hr   Min   Sec  \n",
       "9482          6.0   6.0      2.0         1           0  19.0  30.0   7.0  \n",
       "6909          4.0   4.0      1.0         1           0  19.0   5.0  36.0  "
      ]
     },
     "execution_count": 21,
     "metadata": {},
     "output_type": "execute_result"
    }
   ],
   "source": [
    "df.sample(2)"
   ]
  },
  {
   "cell_type": "code",
   "execution_count": null,
   "id": "44fd40b1",
   "metadata": {},
   "outputs": [],
   "source": []
  }
 ],
 "metadata": {
  "kernelspec": {
   "display_name": "venv",
   "language": "python",
   "name": "python3"
  },
  "language_info": {
   "codemirror_mode": {
    "name": "ipython",
    "version": 3
   },
   "file_extension": ".py",
   "mimetype": "text/x-python",
   "name": "python",
   "nbconvert_exporter": "python",
   "pygments_lexer": "ipython3",
   "version": "3.12.5"
  }
 },
 "nbformat": 4,
 "nbformat_minor": 5
}
