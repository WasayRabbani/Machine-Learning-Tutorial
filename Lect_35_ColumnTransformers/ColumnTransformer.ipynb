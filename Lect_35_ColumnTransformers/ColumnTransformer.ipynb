{
 "cells": [
  {
   "cell_type": "markdown",
   "id": "35e60a52",
   "metadata": {},
   "source": [
    "# Lecture 35: Column Transformer"
   ]
  },
  {
   "cell_type": "markdown",
   "id": "4a1cc0e7",
   "metadata": {},
   "source": [
    "Importing Libraries"
   ]
  },
  {
   "cell_type": "code",
   "execution_count": 1,
   "id": "3b5e68f6",
   "metadata": {},
   "outputs": [],
   "source": [
    "import pandas as pd\n",
    "import matplotlib.pyplot as plt\n",
    "import seaborn as sns\n",
    "import numpy as np\n",
    "\n",
    "from sklearn.model_selection import train_test_split # train test split\n",
    "\n",
    "from sklearn.impute import SimpleImputer # Imputation\n",
    "\n",
    "from sklearn.preprocessing import OneHotEncoder,OrdinalEncoder,MinMaxScaler # Encoding & scaling\n"
   ]
  },
  {
   "cell_type": "markdown",
   "id": "9b059e3b",
   "metadata": {},
   "source": [
    "Importing Dataframe"
   ]
  },
  {
   "cell_type": "code",
   "execution_count": 2,
   "id": "c90ad89a",
   "metadata": {},
   "outputs": [
    {
     "data": {
      "text/html": [
       "<div>\n",
       "<style scoped>\n",
       "    .dataframe tbody tr th:only-of-type {\n",
       "        vertical-align: middle;\n",
       "    }\n",
       "\n",
       "    .dataframe tbody tr th {\n",
       "        vertical-align: top;\n",
       "    }\n",
       "\n",
       "    .dataframe thead th {\n",
       "        text-align: right;\n",
       "    }\n",
       "</style>\n",
       "<table border=\"1\" class=\"dataframe\">\n",
       "  <thead>\n",
       "    <tr style=\"text-align: right;\">\n",
       "      <th></th>\n",
       "      <th>Price</th>\n",
       "      <th>Category</th>\n",
       "      <th>Leather interior</th>\n",
       "      <th>Airbags</th>\n",
       "    </tr>\n",
       "  </thead>\n",
       "  <tbody>\n",
       "    <tr>\n",
       "      <th>0</th>\n",
       "      <td>13328</td>\n",
       "      <td>Jeep</td>\n",
       "      <td>Yes</td>\n",
       "      <td>12.0</td>\n",
       "    </tr>\n",
       "    <tr>\n",
       "      <th>1</th>\n",
       "      <td>16621</td>\n",
       "      <td>Jeep</td>\n",
       "      <td>No</td>\n",
       "      <td>8.0</td>\n",
       "    </tr>\n",
       "    <tr>\n",
       "      <th>2</th>\n",
       "      <td>8467</td>\n",
       "      <td>Hatchback</td>\n",
       "      <td>No</td>\n",
       "      <td>2.0</td>\n",
       "    </tr>\n",
       "    <tr>\n",
       "      <th>3</th>\n",
       "      <td>3607</td>\n",
       "      <td>Jeep</td>\n",
       "      <td>Yes</td>\n",
       "      <td>0.0</td>\n",
       "    </tr>\n",
       "    <tr>\n",
       "      <th>4</th>\n",
       "      <td>11726</td>\n",
       "      <td>Hatchback</td>\n",
       "      <td>Yes</td>\n",
       "      <td>4.0</td>\n",
       "    </tr>\n",
       "  </tbody>\n",
       "</table>\n",
       "</div>"
      ],
      "text/plain": [
       "   Price   Category Leather interior  Airbags\n",
       "0  13328       Jeep              Yes     12.0\n",
       "1  16621       Jeep               No      8.0\n",
       "2   8467  Hatchback               No      2.0\n",
       "3   3607       Jeep              Yes      0.0\n",
       "4  11726  Hatchback              Yes      4.0"
      ]
     },
     "execution_count": 2,
     "metadata": {},
     "output_type": "execute_result"
    }
   ],
   "source": [
    "df=pd.read_csv('car_price_prediction.csv',usecols=['Price','Category','Leather interior','Airbags'])\n",
    "\n",
    "df.loc[20:2000, 'Airbags'] = np.nan\n",
    "\n",
    "df.head()\n"
   ]
  },
  {
   "cell_type": "code",
   "execution_count": 3,
   "id": "ab5a2c6c",
   "metadata": {},
   "outputs": [
    {
     "name": "stdout",
     "output_type": "stream",
     "text": [
      "(19237, 4)\n"
     ]
    }
   ],
   "source": [
    "print(df.shape)"
   ]
  },
  {
   "cell_type": "markdown",
   "id": "029544c2",
   "metadata": {},
   "source": [
    "## Train Test Split"
   ]
  },
  {
   "cell_type": "code",
   "execution_count": 4,
   "id": "8ef37e3e",
   "metadata": {},
   "outputs": [
    {
     "data": {
      "text/plain": [
       "Price                  0\n",
       "Category               0\n",
       "Leather interior       0\n",
       "Airbags             1981\n",
       "dtype: int64"
      ]
     },
     "execution_count": 4,
     "metadata": {},
     "output_type": "execute_result"
    }
   ],
   "source": [
    "df.isnull().sum()"
   ]
  },
  {
   "cell_type": "code",
   "execution_count": 5,
   "id": "9a0ee422",
   "metadata": {},
   "outputs": [],
   "source": [
    "X=df.drop(columns=['Price'])\n",
    "y=df.Price\n",
    "\n",
    "X_train,X_test,y_train,y_test=train_test_split(X,y,test_size=0.2)"
   ]
  },
  {
   "cell_type": "markdown",
   "id": "7e31392f",
   "metadata": {},
   "source": [
    "### Preprocessing (Without Column Transformer)"
   ]
  },
  {
   "cell_type": "markdown",
   "id": "dfa0f6a8",
   "metadata": {},
   "source": [
    "Imputing"
   ]
  },
  {
   "cell_type": "code",
   "execution_count": 6,
   "id": "8e9c5053",
   "metadata": {},
   "outputs": [],
   "source": [
    "SI_mean=SimpleImputer(strategy='mean')\n",
    "\n",
    "X_train_Airbags=SI_mean.fit_transform(X_train[['Airbags']])\n",
    "X_test_Airbags=SI_mean.transform(X_test[['Airbags']])"
   ]
  },
  {
   "cell_type": "code",
   "execution_count": 7,
   "id": "c66bc64a",
   "metadata": {},
   "outputs": [
    {
     "data": {
      "text/plain": [
       "(15389, 1)"
      ]
     },
     "execution_count": 7,
     "metadata": {},
     "output_type": "execute_result"
    }
   ],
   "source": [
    "X_train_Airbags.shape"
   ]
  },
  {
   "cell_type": "markdown",
   "id": "aa8541ef",
   "metadata": {},
   "source": [
    "Ordinal Encoding"
   ]
  },
  {
   "cell_type": "code",
   "execution_count": 8,
   "id": "d3ddd564",
   "metadata": {},
   "outputs": [
    {
     "data": {
      "text/plain": [
       "(15389, 1)"
      ]
     },
     "execution_count": 8,
     "metadata": {},
     "output_type": "execute_result"
    }
   ],
   "source": [
    "OE=OrdinalEncoder(dtype='int',handle_unknown='error',categories=[['No','Yes']])\n",
    "\n",
    "X_train_Leather_interior=OE.fit_transform(X_train[['Leather interior']])\n",
    "X_test_Leather_interior=OE.transform(X_test[['Leather interior']])\n",
    "X_train_Leather_interior.shape"
   ]
  },
  {
   "cell_type": "markdown",
   "id": "e1740db3",
   "metadata": {},
   "source": [
    "One Hot Encoding"
   ]
  },
  {
   "cell_type": "code",
   "execution_count": 9,
   "id": "98073bfc",
   "metadata": {},
   "outputs": [],
   "source": [
    "OHE=OneHotEncoder(sparse_output=False,dtype='int',drop='first')\n",
    "\n",
    "X_train_Category=OHE.fit_transform(X_train[['Category']])\n",
    "\n",
    "X_test_Category=OHE.transform(X_test[['Category']])"
   ]
  },
  {
   "cell_type": "markdown",
   "id": "6cd0c002",
   "metadata": {},
   "source": [
    "Normalization (Feature Scaling)"
   ]
  },
  {
   "cell_type": "code",
   "execution_count": 10,
   "id": "25eaa327",
   "metadata": {},
   "outputs": [],
   "source": [
    "Min_max=MinMaxScaler()\n",
    "\n",
    "X_train_Airbags_scaled=Min_max.fit_transform(X_train[['Airbags']])\n",
    "X_test_Airbags_scaled=Min_max.transform(X_test[['Airbags']])"
   ]
  },
  {
   "cell_type": "code",
   "execution_count": 11,
   "id": "bb560b7e",
   "metadata": {},
   "outputs": [],
   "source": [
    "X_train_transformed=np.concatenate((X_train_Category,X_train_Airbags,X_train_Airbags_scaled,X_train_Leather_interior),axis=1)\n",
    "\n",
    "X_test_transformed=np.concatenate((X_test_Category,X_test_Airbags,X_test_Airbags_scaled,X_test_Leather_interior),axis=1)"
   ]
  },
  {
   "cell_type": "code",
   "execution_count": 12,
   "id": "d1f51460",
   "metadata": {},
   "outputs": [
    {
     "data": {
      "text/plain": [
       "(15389, 13)"
      ]
     },
     "execution_count": 12,
     "metadata": {},
     "output_type": "execute_result"
    }
   ],
   "source": [
    "X_train_transformed.shape"
   ]
  },
  {
   "cell_type": "code",
   "execution_count": null,
   "id": "305eb9be",
   "metadata": {},
   "outputs": [
    {
     "data": {
      "text/plain": [
       "array([[ 0.        ,  0.        ,  0.        , ..., 12.        ,\n",
       "         0.75      ,  1.        ],\n",
       "       [ 0.        ,  0.        ,  0.        , ...,  0.        ,\n",
       "         0.        ,  1.        ],\n",
       "       [ 0.        ,  0.        ,  0.        , ...,  4.        ,\n",
       "         0.25      ,  1.        ],\n",
       "       ...,\n",
       "       [ 0.        ,  0.        ,  0.        , ...,  6.55277074,\n",
       "                nan,  1.        ],\n",
       "       [ 0.        ,  0.        ,  0.        , ...,  4.        ,\n",
       "         0.25      ,  1.        ],\n",
       "       [ 0.        ,  0.        ,  0.        , ..., 12.        ,\n",
       "         0.75      ,  1.        ]])"
      ]
     },
     "execution_count": 17,
     "metadata": {},
     "output_type": "execute_result"
    }
   ],
   "source": []
  },
  {
   "cell_type": "markdown",
   "id": "f5cbc951",
   "metadata": {},
   "source": [
    "### Preprocessing (With Column Transformer)"
   ]
  },
  {
   "cell_type": "code",
   "execution_count": 13,
   "id": "21f08824",
   "metadata": {},
   "outputs": [],
   "source": [
    "from sklearn.compose import ColumnTransformer"
   ]
  },
  {
   "cell_type": "code",
   "execution_count": 14,
   "metadata": {},
   "outputs": [],
   "source": [
    "col_transform=ColumnTransformer(\n",
    "    \n",
    "    transformers=[\n",
    "        ('SI',SimpleImputer(strategy='mean'),['Airbags']),\n",
    "        ('OHE',OneHotEncoder(sparse_output=False,dtype='int',drop='first'),['Category']),\n",
    "        ('OE',OrdinalEncoder(categories=[['No','Yes']],dtype='int',handle_unknown='error'),['Leather interior']),\n",
    "        ('Normalize',MinMaxScaler(),['Airbags'])\n",
    "    ],remainder='passthrough'\n",
    ")"
   ]
  },
  {
   "cell_type": "code",
   "execution_count": 15,
   "metadata": {},
   "outputs": [
    {
     "data": {
      "text/plain": [
       "array([[12.        ,  0.        ,  0.        , ...,  0.        ,\n",
       "         1.        ,  0.75      ],\n",
       "       [12.        ,  0.        ,  0.        , ...,  0.        ,\n",
       "         0.        ,  0.75      ],\n",
       "       [ 6.55277074,  0.        ,  0.        , ...,  0.        ,\n",
       "         0.        ,         nan],\n",
       "       ...,\n",
       "       [ 6.55277074,  0.        ,  0.        , ...,  0.        ,\n",
       "         0.        ,         nan],\n",
       "       [12.        ,  0.        ,  0.        , ...,  0.        ,\n",
       "         1.        ,  0.75      ],\n",
       "       [ 4.        ,  0.        ,  0.        , ...,  0.        ,\n",
       "         0.        ,  0.25      ]])"
      ]
     },
     "execution_count": 15,
     "metadata": {},
     "output_type": "execute_result"
    }
   ],
   "source": [
    "col_transform.fit_transform(X_train)\n",
    "col_transform.transform(X_test)"
   ]
  },
  {
   "cell_type": "code",
   "execution_count": 16,
   "id": "fab8e467",
   "metadata": {},
   "outputs": [
    {
     "data": {
      "text/plain": [
       "(15389, 13)"
      ]
     },
     "execution_count": 16,
     "metadata": {},
     "output_type": "execute_result"
    }
   ],
   "source": [
    "col_transform.fit_transform(X_train).shape"
   ]
  }
 ],
 "metadata": {
  "kernelspec": {
   "display_name": "venv",
   "language": "python",
   "name": "python3"
  },
  "language_info": {
   "codemirror_mode": {
    "name": "ipython",
    "version": 3
   },
   "file_extension": ".py",
   "mimetype": "text/x-python",
   "name": "python",
   "nbconvert_exporter": "python",
   "pygments_lexer": "ipython3",
   "version": "3.12.5"
  }
 },
 "nbformat": 4,
 "nbformat_minor": 5
}
