{
 "cells": [
  {
   "cell_type": "markdown",
   "id": "5790ab2f",
   "metadata": {},
   "source": [
    "### Lecture 30: Outlier Removal using Z-Score"
   ]
  },
  {
   "cell_type": "markdown",
   "id": "911ac93c",
   "metadata": {},
   "source": [
    "Steps (Scikit-Learn)\n",
    "1. Check distribution of column must normally distibuted  or (bell shape)\n",
    "2. Get Upper Limit & Lower Limit\n",
    "3. Check outliers\n",
    "4. Remove or Cap them"
   ]
  },
  {
   "cell_type": "markdown",
   "id": "f00d3518",
   "metadata": {},
   "source": [
    "**Always use this approach when data is normally distributed**"
   ]
  },
  {
   "cell_type": "markdown",
   "id": "9027743b",
   "metadata": {},
   "source": [
    "Importing Libraries"
   ]
  },
  {
   "cell_type": "code",
   "execution_count": 1,
   "id": "ad58d2b8",
   "metadata": {},
   "outputs": [],
   "source": [
    "import pandas as pd\n",
    "import numpy as np\n",
    "import matplotlib.pyplot as plt\n",
    "import seaborn as sns"
   ]
  },
  {
   "cell_type": "code",
   "execution_count": 2,
   "id": "88ef0934",
   "metadata": {},
   "outputs": [],
   "source": [
    "from sklearn.model_selection import train_test_split\n",
    "from sklearn.linear_model import LinearRegression\n",
    "from sklearn.metrics import r2_score,mean_absolute_error"
   ]
  },
  {
   "cell_type": "markdown",
   "id": "e77ce682",
   "metadata": {},
   "source": [
    "Making a Dataframe with outliers"
   ]
  },
  {
   "cell_type": "code",
   "execution_count": 3,
   "id": "981dfc32",
   "metadata": {},
   "outputs": [
    {
     "name": "stdout",
     "output_type": "stream",
     "text": [
      "Shape: (1000, 2)\n"
     ]
    }
   ],
   "source": [
    "\n",
    "np.random.seed(42)\n",
    "n = 1000  \n",
    "\n",
    "ages = np.random.randint(22, 60, size=1000)\n",
    "\n",
    "\n",
    "salaries = ages * 1500 + np.random.randint(20000, 40000, size=1000)\n",
    "\n",
    "# Convert into DataFrame\n",
    "df = pd.DataFrame({\"age\": ages, \"salary\": salaries})\n",
    "\n",
    "\n",
    "n_outliers = 100\n",
    "outlier_indices = np.random.choice(df.index, size=n_outliers, replace=False)\n",
    "\n",
    "\n",
    "\n",
    "\n",
    "df.loc[outlier_indices, \"salary\"] = np.random.randint(300000, 1000000, size=n_outliers)\n",
    "\n",
    "print(\"Shape:\", df.shape)"
   ]
  },
  {
   "cell_type": "code",
   "execution_count": 4,
   "id": "57571fea",
   "metadata": {},
   "outputs": [
    {
     "name": "stdout",
     "output_type": "stream",
     "text": [
      "R² Score before removing\n",
      "outliers: -0.009108848319885787\n",
      "MAE: 109879.32227679022\n"
     ]
    }
   ],
   "source": [
    "# Splitting of Data\n",
    "\n",
    "\n",
    "X_train,X_test,y_train,y_test=train_test_split(df['age'],df['salary'],test_size=0.2,random_state=42)\n",
    "X_train = pd.DataFrame(X_train)\n",
    "X_test = pd.DataFrame(X_test)\n",
    "\n",
    "\n",
    "# Making a model \n",
    "\n",
    "\n",
    "model=LinearRegression()\n",
    "model.fit(X_train,y_train)\n",
    "pred=model.predict(X_test)\n",
    "\n",
    "\n",
    "\n",
    "\n",
    "# Checking R2  Score\n",
    "\n",
    "print(\"R² Score before removing\\noutliers:\", r2_score(y_test, pred))\n",
    "print(\"MAE:\", mean_absolute_error(y_test, pred))\n",
    "\n",
    "\n"
   ]
  },
  {
   "cell_type": "markdown",
   "id": "44d43e0b",
   "metadata": {},
   "source": [
    "Finding Upper & Lower Limit"
   ]
  },
  {
   "cell_type": "code",
   "execution_count": 5,
   "id": "663ef1cb",
   "metadata": {},
   "outputs": [
    {
     "name": "stdout",
     "output_type": "stream",
     "text": [
      "-407593.77711908857\n"
     ]
    }
   ],
   "source": [
    "UL=df['salary'].mean()+3*df['salary'].std()\n",
    "\n",
    "LL=df['salary'].mean()-3*df['salary'].std()\n",
    "print(LL)"
   ]
  },
  {
   "cell_type": "markdown",
   "id": "3e92d125",
   "metadata": {},
   "source": [
    "Checking For outliers"
   ]
  },
  {
   "cell_type": "code",
   "execution_count": 6,
   "id": "c6c0b041",
   "metadata": {},
   "outputs": [],
   "source": [
    "mean_salary=df['salary'].mean()\n",
    "std_salary=df['salary'].std()"
   ]
  },
  {
   "cell_type": "code",
   "execution_count": 7,
   "id": "775d1d62",
   "metadata": {},
   "outputs": [],
   "source": [
    "df['Z_Score_salary']=(df['salary']-mean_salary)/std_salary"
   ]
  },
  {
   "cell_type": "code",
   "execution_count": 8,
   "id": "de545935",
   "metadata": {},
   "outputs": [
    {
     "data": {
      "text/plain": [
       "(47, 3)"
      ]
     },
     "execution_count": 8,
     "metadata": {},
     "output_type": "execute_result"
    }
   ],
   "source": [
    "df[(df['salary']>UL) |(df['salary']<LL) ].shape"
   ]
  },
  {
   "cell_type": "markdown",
   "id": "d0c9b9a1",
   "metadata": {},
   "source": [
    "Trimming"
   ]
  },
  {
   "cell_type": "code",
   "execution_count": 9,
   "id": "31df077f",
   "metadata": {},
   "outputs": [],
   "source": [
    "new_df=df[(df['salary']<UL) & (df['salary']>LL) ]"
   ]
  },
  {
   "cell_type": "code",
   "execution_count": 10,
   "id": "2c0c424c",
   "metadata": {},
   "outputs": [
    {
     "data": {
      "text/plain": [
       "(953, 3)"
      ]
     },
     "execution_count": 10,
     "metadata": {},
     "output_type": "execute_result"
    }
   ],
   "source": [
    "new_df.shape"
   ]
  },
  {
   "cell_type": "code",
   "execution_count": 11,
   "id": "aba118d5",
   "metadata": {},
   "outputs": [
    {
     "name": "stdout",
     "output_type": "stream",
     "text": [
      "R² Score after removing \n",
      "outliers: 0.016315997155211148\n",
      "MAE: 39161.42838672197\n"
     ]
    }
   ],
   "source": [
    "# Splitting of Data\n",
    "\n",
    "\n",
    "X_train,X_test,y_train,y_test=train_test_split(new_df['age'],new_df['salary'],test_size=0.2,random_state=42)\n",
    "X_train = pd.DataFrame(X_train)\n",
    "X_test = pd.DataFrame(X_test)\n",
    "\n",
    "\n",
    "# Making a model \n",
    "\n",
    "\n",
    "model=LinearRegression()\n",
    "model.fit(X_train,y_train)\n",
    "pred=model.predict(X_test)\n",
    "\n",
    "\n",
    "\n",
    "\n",
    "# Checking R2  Score\n",
    "\n",
    "print(\"R² Score after removing \\noutliers:\", r2_score(y_test, pred))\n",
    "print(\"MAE:\", mean_absolute_error(y_test, pred))\n",
    "\n",
    "\n"
   ]
  },
  {
   "cell_type": "markdown",
   "id": "14f05fe1",
   "metadata": {},
   "source": [
    "Capping"
   ]
  },
  {
   "cell_type": "code",
   "execution_count": 12,
   "id": "f97aecea",
   "metadata": {},
   "outputs": [],
   "source": [
    "capped=df.copy()\n",
    "capped['salary']=capped['salary'].clip(upper=UL,lower=LL)"
   ]
  },
  {
   "cell_type": "code",
   "execution_count": 13,
   "id": "5e188537",
   "metadata": {},
   "outputs": [
    {
     "data": {
      "text/html": [
       "<div>\n",
       "<style scoped>\n",
       "    .dataframe tbody tr th:only-of-type {\n",
       "        vertical-align: middle;\n",
       "    }\n",
       "\n",
       "    .dataframe tbody tr th {\n",
       "        vertical-align: top;\n",
       "    }\n",
       "\n",
       "    .dataframe thead th {\n",
       "        text-align: right;\n",
       "    }\n",
       "</style>\n",
       "<table border=\"1\" class=\"dataframe\">\n",
       "  <thead>\n",
       "    <tr style=\"text-align: right;\">\n",
       "      <th></th>\n",
       "      <th>age</th>\n",
       "      <th>salary</th>\n",
       "      <th>Z_Score_salary</th>\n",
       "    </tr>\n",
       "  </thead>\n",
       "  <tbody>\n",
       "  </tbody>\n",
       "</table>\n",
       "</div>"
      ],
      "text/plain": [
       "Empty DataFrame\n",
       "Columns: [age, salary, Z_Score_salary]\n",
       "Index: []"
      ]
     },
     "execution_count": 13,
     "metadata": {},
     "output_type": "execute_result"
    }
   ],
   "source": [
    "capped[(capped['salary']>UL) | (capped['salary']<LL)]"
   ]
  },
  {
   "cell_type": "code",
   "execution_count": 14,
   "id": "26daf880",
   "metadata": {},
   "outputs": [
    {
     "name": "stdout",
     "output_type": "stream",
     "text": [
      "R² Score after removing outliers: -0.008539583548448526\n",
      "MAE: 95112.01134896293\n"
     ]
    }
   ],
   "source": [
    "# Splitting of Data\n",
    "\n",
    "\n",
    "X_train,X_test,y_train,y_test=train_test_split(capped['age'],capped['salary'],test_size=0.2,random_state=42)\n",
    "X_train = pd.DataFrame(X_train)\n",
    "X_test = pd.DataFrame(X_test)\n",
    "\n",
    "\n",
    "# Making a model \n",
    "\n",
    "\n",
    "model=LinearRegression()\n",
    "model.fit(X_train,y_train)\n",
    "pred=model.predict(X_test)\n",
    "\n",
    "\n",
    "\n",
    "\n",
    "# Checking R2  Score\n",
    "\n",
    "print(\"R² Score after removing outliers:\", r2_score(y_test, pred))\n",
    "print(\"MAE:\", mean_absolute_error(y_test, pred))\n",
    "\n",
    "\n"
   ]
  },
  {
   "cell_type": "code",
   "execution_count": 15,
   "id": "16eae393",
   "metadata": {},
   "outputs": [
    {
     "data": {
      "text/plain": [
       "<Axes: ylabel='salary'>"
      ]
     },
     "execution_count": 15,
     "metadata": {},
     "output_type": "execute_result"
    },
    {
     "data": {
      "image/png": "[encoded data removed]",
      "text/plain": [
       "<Figure size 640x480 with 1 Axes>"
      ]
     },
     "metadata": {},
     "output_type": "display_data"
    }
   ],
   "source": [
    "sns.boxplot(new_df['salary'])"
   ]
  },
  {
   "cell_type": "code",
   "execution_count": 16,
   "id": "9f62079a",
   "metadata": {},
   "outputs": [
    {
     "data": {
      "text/plain": [
       "<Axes: ylabel='salary'>"
      ]
     },
     "execution_count": 16,
     "metadata": {},
     "output_type": "execute_result"
    },
    {
     "data": {
      "image/png": "[encoded data removed]",
      "text/plain": [
       "<Figure size 640x480 with 1 Axes>"
      ]
     },
     "metadata": {},
     "output_type": "display_data"
    }
   ],
   "source": [
    "sns.boxplot(capped['salary'])"
   ]
  }
 ],
 "metadata": {
  "kernelspec": {
   "display_name": "venv",
   "language": "python",
   "name": "python3"
  },
  "language_info": {
   "codemirror_mode": {
    "name": "ipython",
    "version": 3
   },
   "file_extension": ".py",
   "mimetype": "text/x-python",
   "name": "python",
   "nbconvert_exporter": "python",
   "pygments_lexer": "ipython3",
   "version": "3.12.5"
  }
 },
 "nbformat": 4,
 "nbformat_minor": 5
}
