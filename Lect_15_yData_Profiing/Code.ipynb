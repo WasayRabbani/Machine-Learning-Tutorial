{
 "cells": [
  {
   "cell_type": "markdown",
   "id": "8bd8307a",
   "metadata": {},
   "source": [
    "### Lecture 15: ydata-Profiling"
   ]
  },
  {
   "cell_type": "markdown",
   "id": "c3e79e15",
   "metadata": {},
   "source": [
    "##### Required Libraries for Profiling"
   ]
  },
  {
   "cell_type": "markdown",
   "id": "f7a50c44",
   "metadata": {},
   "source": [
    "pip install ydata-profiling setuptools numpy"
   ]
  },
  {
   "cell_type": "code",
   "execution_count": null,
   "id": "e955fa7a",
   "metadata": {},
   "outputs": [],
   "source": [
    "import seaborn as sns\n",
    "from ydata_profiling import ProfileReport"
   ]
  },
  {
   "cell_type": "code",
   "execution_count": null,
   "id": "34d82101",
   "metadata": {},
   "outputs": [],
   "source": [
    "df = sns.load_dataset('tips')  \n",
    "profile = ProfileReport(df,title=\"EDA Report for Tips Dataset\",explorative=True,minimal=False)\n",
    "profile.to_file(\"eda_report.html\")\n",
    "\n",
    "print(\"EDA Report successfully generated.\")\n"
   ]
  },
  {
   "cell_type": "code",
   "execution_count": null,
   "id": "988ab135",
   "metadata": {},
   "outputs": [],
   "source": []
  },
  {
   "cell_type": "code",
   "execution_count": null,
   "id": "4d83e72c",
   "metadata": {},
   "outputs": [],
   "source": []
  }
 ],
 "metadata": {
  "kernelspec": {
   "display_name": "venv",
   "language": "python",
   "name": "python3"
  },
  "language_info": {
   "codemirror_mode": {
    "name": "ipython",
    "version": 3
   },
   "file_extension": ".py",
   "mimetype": "text/x-python",
   "name": "python",
   "nbconvert_exporter": "python",
   "pygments_lexer": "ipython3",
   "version": "3.12.5"
  }
 },
 "nbformat": 4,
 "nbformat_minor": 5
}
