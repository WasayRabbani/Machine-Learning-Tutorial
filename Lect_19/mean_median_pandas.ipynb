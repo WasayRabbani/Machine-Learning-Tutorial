{
 "cells": [
  {
   "cell_type": "markdown",
   "id": "f3893225",
   "metadata": {},
   "source": [
    "### Lecture 19: Handling Missing Values in Numerical Data (Mean/Median)"
   ]
  },
  {
   "cell_type": "markdown",
   "id": "19fc6ffa",
   "metadata": {},
   "source": [
    "Steps\n",
    "1. Checking which columns have MCAR (Missing completely at random)\n",
    "2. Splitting data into training & testing\n",
    "3. Seperating columns on which we apply Imputation\n",
    "  <br> a. Making sure Nan Values are MCAR\n",
    "1. Getting mean/median of the column\n",
    "2. Replacing missing values with mean/median.\n",
    "3. Visualizing Changes "
   ]
  },
  {
   "cell_type": "markdown",
   "id": "893fab90",
   "metadata": {},
   "source": [
    "Importing Useful Libraries"
   ]
  },
  {
   "cell_type": "code",
   "execution_count": 51,
   "id": "98217658",
   "metadata": {},
   "outputs": [],
   "source": [
    "from sklearn.model_selection import train_test_split\n",
    "import pandas as pd\n",
    "import matplotlib.pyplot as plt"
   ]
  },
  {
   "cell_type": "markdown",
   "id": "5c091b2a",
   "metadata": {},
   "source": [
    "Importing Data"
   ]
  },
  {
   "cell_type": "code",
   "execution_count": 52,
   "id": "df498393",
   "metadata": {},
   "outputs": [
    {
     "data": {
      "text/html": [
       "<div>\n",
       "<style scoped>\n",
       "    .dataframe tbody tr th:only-of-type {\n",
       "        vertical-align: middle;\n",
       "    }\n",
       "\n",
       "    .dataframe tbody tr th {\n",
       "        vertical-align: top;\n",
       "    }\n",
       "\n",
       "    .dataframe thead th {\n",
       "        text-align: right;\n",
       "    }\n",
       "</style>\n",
       "<table border=\"1\" class=\"dataframe\">\n",
       "  <thead>\n",
       "    <tr style=\"text-align: right;\">\n",
       "      <th></th>\n",
       "      <th>age</th>\n",
       "      <th>bmi</th>\n",
       "      <th>smoker</th>\n",
       "    </tr>\n",
       "  </thead>\n",
       "  <tbody>\n",
       "    <tr>\n",
       "      <th>0</th>\n",
       "      <td>19.0</td>\n",
       "      <td>27.900</td>\n",
       "      <td>yes</td>\n",
       "    </tr>\n",
       "    <tr>\n",
       "      <th>1</th>\n",
       "      <td>18.0</td>\n",
       "      <td>33.770</td>\n",
       "      <td>no</td>\n",
       "    </tr>\n",
       "    <tr>\n",
       "      <th>2</th>\n",
       "      <td>28.0</td>\n",
       "      <td>33.000</td>\n",
       "      <td>no</td>\n",
       "    </tr>\n",
       "    <tr>\n",
       "      <th>3</th>\n",
       "      <td>33.0</td>\n",
       "      <td>22.705</td>\n",
       "      <td>no</td>\n",
       "    </tr>\n",
       "    <tr>\n",
       "      <th>4</th>\n",
       "      <td>32.0</td>\n",
       "      <td>28.880</td>\n",
       "      <td>no</td>\n",
       "    </tr>\n",
       "  </tbody>\n",
       "</table>\n",
       "</div>"
      ],
      "text/plain": [
       "    age     bmi smoker\n",
       "0  19.0  27.900    yes\n",
       "1  18.0  33.770     no\n",
       "2  28.0  33.000     no\n",
       "3  33.0  22.705     no\n",
       "4  32.0  28.880     no"
      ]
     },
     "execution_count": 52,
     "metadata": {},
     "output_type": "execute_result"
    }
   ],
   "source": [
    "df=pd.read_csv('insurance.csv',usecols=['age','bmi','smoker'])\n",
    "df.head()\n"
   ]
  },
  {
   "cell_type": "markdown",
   "id": "1e26fa3e",
   "metadata": {},
   "source": [
    "Step 1"
   ]
  },
  {
   "cell_type": "code",
   "execution_count": 53,
   "id": "6b07809f",
   "metadata": {},
   "outputs": [
    {
     "data": {
      "text/plain": [
       "age       17.638266\n",
       "bmi        9.417040\n",
       "smoker     0.000000\n",
       "dtype: float64"
      ]
     },
     "execution_count": 53,
     "metadata": {},
     "output_type": "execute_result"
    }
   ],
   "source": [
    "df.isnull().mean()*100"
   ]
  },
  {
   "cell_type": "markdown",
   "id": "e990a935",
   "metadata": {},
   "source": [
    "Step 2"
   ]
  },
  {
   "cell_type": "code",
   "execution_count": 54,
   "id": "7f031a3a",
   "metadata": {},
   "outputs": [],
   "source": [
    "X=df.drop(columns='smoker',axis=1)\n",
    "Y=df.smoker"
   ]
  },
  {
   "cell_type": "code",
   "execution_count": 55,
   "id": "bef4ee5a",
   "metadata": {},
   "outputs": [],
   "source": [
    "X_train,X_test,Y_train,Y_test=train_test_split(X,Y,test_size=0.2,random_state=42)"
   ]
  },
  {
   "cell_type": "code",
   "execution_count": 56,
   "id": "f1609e41",
   "metadata": {},
   "outputs": [
    {
     "name": "stdout",
     "output_type": "stream",
     "text": [
      "(1070, 2)\n",
      "(268, 2)\n"
     ]
    }
   ],
   "source": [
    "print(X_train.shape)\n",
    "print(X_test.shape)"
   ]
  },
  {
   "cell_type": "markdown",
   "id": "38585caf",
   "metadata": {},
   "source": [
    "Step 3"
   ]
  },
  {
   "cell_type": "code",
   "execution_count": 57,
   "id": "71526ef8",
   "metadata": {},
   "outputs": [],
   "source": [
    "col=[var for var in X_train.columns if X_train[var].isnull().mean()>0]"
   ]
  },
  {
   "cell_type": "code",
   "execution_count": 58,
   "id": "3e38b77e",
   "metadata": {},
   "outputs": [
    {
     "name": "stdout",
     "output_type": "stream",
     "text": [
      "['age', 'bmi']\n"
     ]
    }
   ],
   "source": [
    "print(col)\n"
   ]
  },
  {
   "cell_type": "code",
   "execution_count": 59,
   "id": "f1ba56db",
   "metadata": {},
   "outputs": [
    {
     "data": {
      "text/html": [
       "<div>\n",
       "<style scoped>\n",
       "    .dataframe tbody tr th:only-of-type {\n",
       "        vertical-align: middle;\n",
       "    }\n",
       "\n",
       "    .dataframe tbody tr th {\n",
       "        vertical-align: top;\n",
       "    }\n",
       "\n",
       "    .dataframe thead th {\n",
       "        text-align: right;\n",
       "    }\n",
       "</style>\n",
       "<table border=\"1\" class=\"dataframe\">\n",
       "  <thead>\n",
       "    <tr style=\"text-align: right;\">\n",
       "      <th></th>\n",
       "      <th>age</th>\n",
       "      <th>bmi</th>\n",
       "    </tr>\n",
       "  </thead>\n",
       "  <tbody>\n",
       "    <tr>\n",
       "      <th>263</th>\n",
       "      <td>19.0</td>\n",
       "      <td>NaN</td>\n",
       "    </tr>\n",
       "    <tr>\n",
       "      <th>1126</th>\n",
       "      <td>55.0</td>\n",
       "      <td>29.900</td>\n",
       "    </tr>\n",
       "    <tr>\n",
       "      <th>898</th>\n",
       "      <td>18.0</td>\n",
       "      <td>40.260</td>\n",
       "    </tr>\n",
       "    <tr>\n",
       "      <th>1042</th>\n",
       "      <td>20.0</td>\n",
       "      <td>30.685</td>\n",
       "    </tr>\n",
       "    <tr>\n",
       "      <th>1017</th>\n",
       "      <td>26.0</td>\n",
       "      <td>34.200</td>\n",
       "    </tr>\n",
       "    <tr>\n",
       "      <th>736</th>\n",
       "      <td>37.0</td>\n",
       "      <td>38.390</td>\n",
       "    </tr>\n",
       "    <tr>\n",
       "      <th>431</th>\n",
       "      <td>29.0</td>\n",
       "      <td>20.235</td>\n",
       "    </tr>\n",
       "    <tr>\n",
       "      <th>1140</th>\n",
       "      <td>50.0</td>\n",
       "      <td>37.070</td>\n",
       "    </tr>\n",
       "    <tr>\n",
       "      <th>596</th>\n",
       "      <td>42.0</td>\n",
       "      <td>29.480</td>\n",
       "    </tr>\n",
       "    <tr>\n",
       "      <th>917</th>\n",
       "      <td>NaN</td>\n",
       "      <td>22.895</td>\n",
       "    </tr>\n",
       "    <tr>\n",
       "      <th>62</th>\n",
       "      <td>64.0</td>\n",
       "      <td>24.700</td>\n",
       "    </tr>\n",
       "    <tr>\n",
       "      <th>420</th>\n",
       "      <td>64.0</td>\n",
       "      <td>33.880</td>\n",
       "    </tr>\n",
       "    <tr>\n",
       "      <th>390</th>\n",
       "      <td>48.0</td>\n",
       "      <td>NaN</td>\n",
       "    </tr>\n",
       "    <tr>\n",
       "      <th>761</th>\n",
       "      <td>23.0</td>\n",
       "      <td>NaN</td>\n",
       "    </tr>\n",
       "    <tr>\n",
       "      <th>267</th>\n",
       "      <td>59.0</td>\n",
       "      <td>32.395</td>\n",
       "    </tr>\n",
       "    <tr>\n",
       "      <th>810</th>\n",
       "      <td>46.0</td>\n",
       "      <td>NaN</td>\n",
       "    </tr>\n",
       "    <tr>\n",
       "      <th>1145</th>\n",
       "      <td>52.0</td>\n",
       "      <td>32.775</td>\n",
       "    </tr>\n",
       "    <tr>\n",
       "      <th>1185</th>\n",
       "      <td>45.0</td>\n",
       "      <td>23.560</td>\n",
       "    </tr>\n",
       "    <tr>\n",
       "      <th>1029</th>\n",
       "      <td>37.0</td>\n",
       "      <td>17.290</td>\n",
       "    </tr>\n",
       "    <tr>\n",
       "      <th>383</th>\n",
       "      <td>35.0</td>\n",
       "      <td>43.340</td>\n",
       "    </tr>\n",
       "  </tbody>\n",
       "</table>\n",
       "</div>"
      ],
      "text/plain": [
       "       age     bmi\n",
       "263   19.0     NaN\n",
       "1126  55.0  29.900\n",
       "898   18.0  40.260\n",
       "1042  20.0  30.685\n",
       "1017  26.0  34.200\n",
       "736   37.0  38.390\n",
       "431   29.0  20.235\n",
       "1140  50.0  37.070\n",
       "596   42.0  29.480\n",
       "917    NaN  22.895\n",
       "62    64.0  24.700\n",
       "420   64.0  33.880\n",
       "390   48.0     NaN\n",
       "761   23.0     NaN\n",
       "267   59.0  32.395\n",
       "810   46.0     NaN\n",
       "1145  52.0  32.775\n",
       "1185  45.0  23.560\n",
       "1029  37.0  17.290\n",
       "383   35.0  43.340"
      ]
     },
     "execution_count": 59,
     "metadata": {},
     "output_type": "execute_result"
    }
   ],
   "source": [
    "X_train.sample(20)"
   ]
  },
  {
   "cell_type": "markdown",
   "id": "8ca5d08a",
   "metadata": {},
   "source": [
    "Step 4"
   ]
  },
  {
   "cell_type": "code",
   "execution_count": 60,
   "id": "0529df78",
   "metadata": {},
   "outputs": [],
   "source": [
    "bmi_mean=X_train['bmi'].mean()\n",
    "bmi_median=X_train['bmi'].median()\n"
   ]
  },
  {
   "cell_type": "code",
   "execution_count": 61,
   "id": "5a2aa29c",
   "metadata": {},
   "outputs": [],
   "source": [
    "age_mean=X_train['age'].mean()\n",
    "age_median=X_train['age'].median()\n"
   ]
  },
  {
   "cell_type": "code",
   "execution_count": 62,
   "id": "16412e8c",
   "metadata": {},
   "outputs": [
    {
     "name": "stdout",
     "output_type": "stream",
     "text": [
      "30.43314374353671,30.115,39.31525423728814,40.0\n"
     ]
    }
   ],
   "source": [
    "print(f'{bmi_mean},{bmi_median},{age_mean},{age_median}')"
   ]
  },
  {
   "cell_type": "code",
   "execution_count": 63,
   "id": "bbb0a68b",
   "metadata": {},
   "outputs": [
    {
     "data": {
      "text/plain": [
       "560        NaN\n",
       "1285    24.320\n",
       "1142    24.860\n",
       "969     34.320\n",
       "486     21.470\n",
       "         ...  \n",
       "1095    31.350\n",
       "1130    23.870\n",
       "1294    25.175\n",
       "860     47.600\n",
       "1126    29.900\n",
       "Name: bmi, Length: 1070, dtype: float64"
      ]
     },
     "execution_count": 63,
     "metadata": {},
     "output_type": "execute_result"
    }
   ],
   "source": [
    "X_train['bmi']"
   ]
  },
  {
   "cell_type": "markdown",
   "id": "9af0601e",
   "metadata": {},
   "source": [
    "Step 5"
   ]
  },
  {
   "cell_type": "code",
   "execution_count": 64,
   "id": "1ba3d0e5",
   "metadata": {},
   "outputs": [],
   "source": [
    "X_train['mean_age']=X_train['age'].fillna(age_mean)\n",
    "X_train['median_age']=X_train['age'].fillna(age_median)\n",
    "\n",
    "X_train['mean_bmi']=X_train['age'].fillna(bmi_mean)\n",
    "X_train['median_bmi']=X_train['age'].fillna(bmi_median)\n",
    "\n"
   ]
  },
  {
   "cell_type": "code",
   "execution_count": 65,
   "id": "40b7f69c",
   "metadata": {},
   "outputs": [
    {
     "data": {
      "text/plain": [
       "560     46.000000\n",
       "1285    47.000000\n",
       "1142    52.000000\n",
       "969     39.000000\n",
       "486     30.433144\n",
       "          ...    \n",
       "1095    30.433144\n",
       "1130    39.000000\n",
       "1294    58.000000\n",
       "860     37.000000\n",
       "1126    55.000000\n",
       "Name: mean_bmi, Length: 1070, dtype: float64"
      ]
     },
     "execution_count": 65,
     "metadata": {},
     "output_type": "execute_result"
    }
   ],
   "source": [
    "X_train['mean_bmi']"
   ]
  },
  {
   "cell_type": "code",
   "execution_count": 66,
   "id": "8cb7ab10",
   "metadata": {},
   "outputs": [
    {
     "data": {
      "text/plain": [
       "560     46.000000\n",
       "1285    47.000000\n",
       "1142    52.000000\n",
       "969     39.000000\n",
       "486     39.315254\n",
       "          ...    \n",
       "1095    39.315254\n",
       "1130    39.000000\n",
       "1294    58.000000\n",
       "860     37.000000\n",
       "1126    55.000000\n",
       "Name: mean_age, Length: 1070, dtype: float64"
      ]
     },
     "execution_count": 66,
     "metadata": {},
     "output_type": "execute_result"
    }
   ],
   "source": [
    "X_train['mean_age']"
   ]
  },
  {
   "cell_type": "markdown",
   "id": "3b0a56fc",
   "metadata": {},
   "source": [
    "Using mean"
   ]
  },
  {
   "cell_type": "code",
   "execution_count": 67,
   "id": "8e932894",
   "metadata": {},
   "outputs": [],
   "source": [
    "# X_train['age']=X_train['age'].fillna(age_mean)\n",
    "# X_train['bmi']=X_train['bmi'].fillna(bmi_mean)"
   ]
  },
  {
   "cell_type": "code",
   "execution_count": 68,
   "id": "9b13456a",
   "metadata": {},
   "outputs": [
    {
     "data": {
      "text/html": [
       "<div>\n",
       "<style scoped>\n",
       "    .dataframe tbody tr th:only-of-type {\n",
       "        vertical-align: middle;\n",
       "    }\n",
       "\n",
       "    .dataframe tbody tr th {\n",
       "        vertical-align: top;\n",
       "    }\n",
       "\n",
       "    .dataframe thead th {\n",
       "        text-align: right;\n",
       "    }\n",
       "</style>\n",
       "<table border=\"1\" class=\"dataframe\">\n",
       "  <thead>\n",
       "    <tr style=\"text-align: right;\">\n",
       "      <th></th>\n",
       "      <th>age</th>\n",
       "      <th>bmi</th>\n",
       "      <th>mean_age</th>\n",
       "      <th>median_age</th>\n",
       "      <th>mean_bmi</th>\n",
       "      <th>median_bmi</th>\n",
       "    </tr>\n",
       "  </thead>\n",
       "  <tbody>\n",
       "    <tr>\n",
       "      <th>560</th>\n",
       "      <td>46.0</td>\n",
       "      <td>NaN</td>\n",
       "      <td>46.000000</td>\n",
       "      <td>46.0</td>\n",
       "      <td>46.000000</td>\n",
       "      <td>46.000</td>\n",
       "    </tr>\n",
       "    <tr>\n",
       "      <th>1285</th>\n",
       "      <td>47.0</td>\n",
       "      <td>24.320</td>\n",
       "      <td>47.000000</td>\n",
       "      <td>47.0</td>\n",
       "      <td>47.000000</td>\n",
       "      <td>47.000</td>\n",
       "    </tr>\n",
       "    <tr>\n",
       "      <th>1142</th>\n",
       "      <td>52.0</td>\n",
       "      <td>24.860</td>\n",
       "      <td>52.000000</td>\n",
       "      <td>52.0</td>\n",
       "      <td>52.000000</td>\n",
       "      <td>52.000</td>\n",
       "    </tr>\n",
       "    <tr>\n",
       "      <th>969</th>\n",
       "      <td>39.0</td>\n",
       "      <td>34.320</td>\n",
       "      <td>39.000000</td>\n",
       "      <td>39.0</td>\n",
       "      <td>39.000000</td>\n",
       "      <td>39.000</td>\n",
       "    </tr>\n",
       "    <tr>\n",
       "      <th>486</th>\n",
       "      <td>NaN</td>\n",
       "      <td>21.470</td>\n",
       "      <td>39.315254</td>\n",
       "      <td>40.0</td>\n",
       "      <td>30.433144</td>\n",
       "      <td>30.115</td>\n",
       "    </tr>\n",
       "    <tr>\n",
       "      <th>...</th>\n",
       "      <td>...</td>\n",
       "      <td>...</td>\n",
       "      <td>...</td>\n",
       "      <td>...</td>\n",
       "      <td>...</td>\n",
       "      <td>...</td>\n",
       "    </tr>\n",
       "    <tr>\n",
       "      <th>1095</th>\n",
       "      <td>NaN</td>\n",
       "      <td>31.350</td>\n",
       "      <td>39.315254</td>\n",
       "      <td>40.0</td>\n",
       "      <td>30.433144</td>\n",
       "      <td>30.115</td>\n",
       "    </tr>\n",
       "    <tr>\n",
       "      <th>1130</th>\n",
       "      <td>39.0</td>\n",
       "      <td>23.870</td>\n",
       "      <td>39.000000</td>\n",
       "      <td>39.0</td>\n",
       "      <td>39.000000</td>\n",
       "      <td>39.000</td>\n",
       "    </tr>\n",
       "    <tr>\n",
       "      <th>1294</th>\n",
       "      <td>58.0</td>\n",
       "      <td>25.175</td>\n",
       "      <td>58.000000</td>\n",
       "      <td>58.0</td>\n",
       "      <td>58.000000</td>\n",
       "      <td>58.000</td>\n",
       "    </tr>\n",
       "    <tr>\n",
       "      <th>860</th>\n",
       "      <td>37.0</td>\n",
       "      <td>47.600</td>\n",
       "      <td>37.000000</td>\n",
       "      <td>37.0</td>\n",
       "      <td>37.000000</td>\n",
       "      <td>37.000</td>\n",
       "    </tr>\n",
       "    <tr>\n",
       "      <th>1126</th>\n",
       "      <td>55.0</td>\n",
       "      <td>29.900</td>\n",
       "      <td>55.000000</td>\n",
       "      <td>55.0</td>\n",
       "      <td>55.000000</td>\n",
       "      <td>55.000</td>\n",
       "    </tr>\n",
       "  </tbody>\n",
       "</table>\n",
       "<p>1070 rows × 6 columns</p>\n",
       "</div>"
      ],
      "text/plain": [
       "       age     bmi   mean_age  median_age   mean_bmi  median_bmi\n",
       "560   46.0     NaN  46.000000        46.0  46.000000      46.000\n",
       "1285  47.0  24.320  47.000000        47.0  47.000000      47.000\n",
       "1142  52.0  24.860  52.000000        52.0  52.000000      52.000\n",
       "969   39.0  34.320  39.000000        39.0  39.000000      39.000\n",
       "486    NaN  21.470  39.315254        40.0  30.433144      30.115\n",
       "...    ...     ...        ...         ...        ...         ...\n",
       "1095   NaN  31.350  39.315254        40.0  30.433144      30.115\n",
       "1130  39.0  23.870  39.000000        39.0  39.000000      39.000\n",
       "1294  58.0  25.175  58.000000        58.0  58.000000      58.000\n",
       "860   37.0  47.600  37.000000        37.0  37.000000      37.000\n",
       "1126  55.0  29.900  55.000000        55.0  55.000000      55.000\n",
       "\n",
       "[1070 rows x 6 columns]"
      ]
     },
     "execution_count": 68,
     "metadata": {},
     "output_type": "execute_result"
    }
   ],
   "source": [
    "X_train"
   ]
  },
  {
   "cell_type": "markdown",
   "id": "29a8d3e2",
   "metadata": {},
   "source": [
    "Visualization"
   ]
  },
  {
   "cell_type": "code",
   "execution_count": 69,
   "id": "198e0452",
   "metadata": {},
   "outputs": [
    {
     "data": {
      "image/png": "[encoded data removed]",
      "text/plain": [
       "<Figure size 640x480 with 1 Axes>"
      ]
     },
     "metadata": {},
     "output_type": "display_data"
    }
   ],
   "source": [
    "# BMi\n",
    "\n",
    "fig=plt.figure()\n",
    "axis=fig.add_subplot(111)\n",
    "\n",
    "X_train['bmi'].plot(kind='kde',ax=axis,label='BMI')\n",
    "X_train['mean_bmi'].plot(kind='kde',ax=axis,label='mean')\n",
    "X_train['median_bmi'].plot(kind='kde',ax=axis,label='median')\n",
    "axis=plt.legend()"
   ]
  },
  {
   "cell_type": "code",
   "execution_count": 70,
   "id": "e9b4fb6c",
   "metadata": {},
   "outputs": [
    {
     "data": {
      "image/png": "[encoded data removed]",
      "text/plain": [
       "<Figure size 640x480 with 1 Axes>"
      ]
     },
     "metadata": {},
     "output_type": "display_data"
    }
   ],
   "source": [
    "# age\n",
    "\n",
    "fig=plt.figure()\n",
    "axis=fig.add_subplot(111)\n",
    "\n",
    "X_train['age'].plot(kind='kde',ax=axis,label='age')\n",
    "X_train['mean_age'].plot(kind='kde',ax=axis,label='mean')\n",
    "X_train['median_age'].plot(kind='kde',ax=axis,label='median')\n",
    "axis=plt.legend()"
   ]
  },
  {
   "cell_type": "code",
   "execution_count": 71,
   "id": "ccce4b3e",
   "metadata": {},
   "outputs": [
    {
     "data": {
      "text/html": [
       "<div>\n",
       "<style scoped>\n",
       "    .dataframe tbody tr th:only-of-type {\n",
       "        vertical-align: middle;\n",
       "    }\n",
       "\n",
       "    .dataframe tbody tr th {\n",
       "        vertical-align: top;\n",
       "    }\n",
       "\n",
       "    .dataframe thead th {\n",
       "        text-align: right;\n",
       "    }\n",
       "</style>\n",
       "<table border=\"1\" class=\"dataframe\">\n",
       "  <thead>\n",
       "    <tr style=\"text-align: right;\">\n",
       "      <th></th>\n",
       "      <th>age</th>\n",
       "      <th>bmi</th>\n",
       "      <th>mean_age</th>\n",
       "      <th>median_age</th>\n",
       "      <th>mean_bmi</th>\n",
       "      <th>median_bmi</th>\n",
       "    </tr>\n",
       "  </thead>\n",
       "  <tbody>\n",
       "    <tr>\n",
       "      <th>age</th>\n",
       "      <td>1.000000</td>\n",
       "      <td>0.087079</td>\n",
       "      <td>1.000000</td>\n",
       "      <td>1.000000</td>\n",
       "      <td>1.000000</td>\n",
       "      <td>1.000000</td>\n",
       "    </tr>\n",
       "    <tr>\n",
       "      <th>bmi</th>\n",
       "      <td>0.087079</td>\n",
       "      <td>1.000000</td>\n",
       "      <td>0.079005</td>\n",
       "      <td>0.078159</td>\n",
       "      <td>0.086670</td>\n",
       "      <td>0.086828</td>\n",
       "    </tr>\n",
       "    <tr>\n",
       "      <th>mean_age</th>\n",
       "      <td>1.000000</td>\n",
       "      <td>0.079005</td>\n",
       "      <td>1.000000</td>\n",
       "      <td>0.999796</td>\n",
       "      <td>0.967301</td>\n",
       "      <td>0.965041</td>\n",
       "    </tr>\n",
       "    <tr>\n",
       "      <th>median_age</th>\n",
       "      <td>1.000000</td>\n",
       "      <td>0.078159</td>\n",
       "      <td>0.999796</td>\n",
       "      <td>1.000000</td>\n",
       "      <td>0.961978</td>\n",
       "      <td>0.959547</td>\n",
       "    </tr>\n",
       "    <tr>\n",
       "      <th>mean_bmi</th>\n",
       "      <td>1.000000</td>\n",
       "      <td>0.086670</td>\n",
       "      <td>0.967301</td>\n",
       "      <td>0.961978</td>\n",
       "      <td>1.000000</td>\n",
       "      <td>0.999962</td>\n",
       "    </tr>\n",
       "    <tr>\n",
       "      <th>median_bmi</th>\n",
       "      <td>1.000000</td>\n",
       "      <td>0.086828</td>\n",
       "      <td>0.965041</td>\n",
       "      <td>0.959547</td>\n",
       "      <td>0.999962</td>\n",
       "      <td>1.000000</td>\n",
       "    </tr>\n",
       "  </tbody>\n",
       "</table>\n",
       "</div>"
      ],
      "text/plain": [
       "                 age       bmi  mean_age  median_age  mean_bmi  median_bmi\n",
       "age         1.000000  0.087079  1.000000    1.000000  1.000000    1.000000\n",
       "bmi         0.087079  1.000000  0.079005    0.078159  0.086670    0.086828\n",
       "mean_age    1.000000  0.079005  1.000000    0.999796  0.967301    0.965041\n",
       "median_age  1.000000  0.078159  0.999796    1.000000  0.961978    0.959547\n",
       "mean_bmi    1.000000  0.086670  0.967301    0.961978  1.000000    0.999962\n",
       "median_bmi  1.000000  0.086828  0.965041    0.959547  0.999962    1.000000"
      ]
     },
     "execution_count": 71,
     "metadata": {},
     "output_type": "execute_result"
    }
   ],
   "source": [
    "X_train.corr()"
   ]
  },
  {
   "cell_type": "code",
   "execution_count": 72,
   "id": "22e54403",
   "metadata": {},
   "outputs": [
    {
     "data": {
      "text/html": [
       "<div>\n",
       "<style scoped>\n",
       "    .dataframe tbody tr th:only-of-type {\n",
       "        vertical-align: middle;\n",
       "    }\n",
       "\n",
       "    .dataframe tbody tr th {\n",
       "        vertical-align: top;\n",
       "    }\n",
       "\n",
       "    .dataframe thead th {\n",
       "        text-align: right;\n",
       "    }\n",
       "</style>\n",
       "<table border=\"1\" class=\"dataframe\">\n",
       "  <thead>\n",
       "    <tr style=\"text-align: right;\">\n",
       "      <th></th>\n",
       "      <th>age</th>\n",
       "      <th>bmi</th>\n",
       "      <th>mean_age</th>\n",
       "      <th>median_age</th>\n",
       "      <th>mean_bmi</th>\n",
       "      <th>median_bmi</th>\n",
       "    </tr>\n",
       "  </thead>\n",
       "  <tbody>\n",
       "    <tr>\n",
       "      <th>age</th>\n",
       "      <td>198.625615</td>\n",
       "      <td>7.375952</td>\n",
       "      <td>198.625615</td>\n",
       "      <td>198.625615</td>\n",
       "      <td>198.625615</td>\n",
       "      <td>198.625615</td>\n",
       "    </tr>\n",
       "    <tr>\n",
       "      <th>bmi</th>\n",
       "      <td>7.375952</td>\n",
       "      <td>36.396240</td>\n",
       "      <td>6.045615</td>\n",
       "      <td>5.982282</td>\n",
       "      <td>6.867137</td>\n",
       "      <td>6.896563</td>\n",
       "    </tr>\n",
       "    <tr>\n",
       "      <th>mean_age</th>\n",
       "      <td>198.625615</td>\n",
       "      <td>6.045615</td>\n",
       "      <td>164.251678</td>\n",
       "      <td>164.251678</td>\n",
       "      <td>164.251678</td>\n",
       "      <td>164.251678</td>\n",
       "    </tr>\n",
       "    <tr>\n",
       "      <th>median_age</th>\n",
       "      <td>198.625615</td>\n",
       "      <td>5.982282</td>\n",
       "      <td>164.251678</td>\n",
       "      <td>164.318792</td>\n",
       "      <td>163.381118</td>\n",
       "      <td>163.349935</td>\n",
       "    </tr>\n",
       "    <tr>\n",
       "      <th>mean_bmi</th>\n",
       "      <td>198.625615</td>\n",
       "      <td>6.867137</td>\n",
       "      <td>164.251678</td>\n",
       "      <td>163.381118</td>\n",
       "      <td>175.544068</td>\n",
       "      <td>175.948544</td>\n",
       "    </tr>\n",
       "    <tr>\n",
       "      <th>median_bmi</th>\n",
       "      <td>198.625615</td>\n",
       "      <td>6.896563</td>\n",
       "      <td>164.251678</td>\n",
       "      <td>163.349935</td>\n",
       "      <td>175.948544</td>\n",
       "      <td>176.367508</td>\n",
       "    </tr>\n",
       "  </tbody>\n",
       "</table>\n",
       "</div>"
      ],
      "text/plain": [
       "                   age        bmi    mean_age  median_age    mean_bmi  \\\n",
       "age         198.625615   7.375952  198.625615  198.625615  198.625615   \n",
       "bmi           7.375952  36.396240    6.045615    5.982282    6.867137   \n",
       "mean_age    198.625615   6.045615  164.251678  164.251678  164.251678   \n",
       "median_age  198.625615   5.982282  164.251678  164.318792  163.381118   \n",
       "mean_bmi    198.625615   6.867137  164.251678  163.381118  175.544068   \n",
       "median_bmi  198.625615   6.896563  164.251678  163.349935  175.948544   \n",
       "\n",
       "            median_bmi  \n",
       "age         198.625615  \n",
       "bmi           6.896563  \n",
       "mean_age    164.251678  \n",
       "median_age  163.349935  \n",
       "mean_bmi    175.948544  \n",
       "median_bmi  176.367508  "
      ]
     },
     "execution_count": 72,
     "metadata": {},
     "output_type": "execute_result"
    }
   ],
   "source": [
    "X_train.cov()"
   ]
  },
  {
   "cell_type": "code",
   "execution_count": 73,
   "id": "90029e82",
   "metadata": {},
   "outputs": [
    {
     "name": "stdout",
     "output_type": "stream",
     "text": [
      "Variance Before: 198.62561546130837\n",
      "After Mean Imputation: 164.2516782673495\n"
     ]
    }
   ],
   "source": [
    "print(f'Variance Before: {X_train['age'].var()}\\nAfter Mean Imputation: {X_train['mean_age'].var()}')"
   ]
  },
  {
   "cell_type": "code",
   "execution_count": 74,
   "id": "3e2a1c1d",
   "metadata": {},
   "outputs": [
    {
     "data": {
      "text/plain": [
       "<Axes: >"
      ]
     },
     "execution_count": 74,
     "metadata": {},
     "output_type": "execute_result"
    },
    {
     "data": {
      "image/png": "[encoded data removed]",
      "text/plain": [
       "<Figure size 640x480 with 1 Axes>"
      ]
     },
     "metadata": {},
     "output_type": "display_data"
    }
   ],
   "source": [
    "# Outliers\n",
    "\n",
    "X_train[['age','mean_age','median_age']].boxplot()"
   ]
  },
  {
   "cell_type": "code",
   "execution_count": 75,
   "id": "3a0e0a2a",
   "metadata": {},
   "outputs": [
    {
     "data": {
      "text/plain": [
       "<Axes: >"
      ]
     },
     "execution_count": 75,
     "metadata": {},
     "output_type": "execute_result"
    },
    {
     "data": {
      "image/png": "[encoded data removed]",
      "text/plain": [
       "<Figure size 640x480 with 1 Axes>"
      ]
     },
     "metadata": {},
     "output_type": "display_data"
    }
   ],
   "source": [
    "X_train[['bmi','mean_bmi','median_bmi']].boxplot()"
   ]
  },
  {
   "cell_type": "code",
   "execution_count": null,
   "id": "2345f4d1",
   "metadata": {},
   "outputs": [],
   "source": []
  }
 ],
 "metadata": {
  "kernelspec": {
   "display_name": "venv",
   "language": "python",
   "name": "python3"
  },
  "language_info": {
   "codemirror_mode": {
    "name": "ipython",
    "version": 3
   },
   "file_extension": ".py",
   "mimetype": "text/x-python",
   "name": "python",
   "nbconvert_exporter": "python",
   "pygments_lexer": "ipython3",
   "version": "3.12.5"
  }
 },
 "nbformat": 4,
 "nbformat_minor": 5
}
