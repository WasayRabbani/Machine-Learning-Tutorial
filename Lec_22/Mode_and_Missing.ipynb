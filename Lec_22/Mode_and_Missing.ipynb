{
 "cells": [
  {
   "cell_type": "markdown",
   "id": "f3893225",
   "metadata": {},
   "source": [
    "### Lecture 22: Handing Missing Values Imputing Using Mode in Categorical column (Missing Word & Mode)"
   ]
  },
  {
   "cell_type": "markdown",
   "id": "19fc6ffa",
   "metadata": {},
   "source": [
    "Steps (Using Pandas)\n",
    "1. Checking which columns have MCAR (Missing completely at random)\n",
    "2. Splitting data into training & testing\n",
    "3. Seperating columns on which we apply Imputation\n",
    "  <br> a. Making sure Nan Values are MCAR\n",
    "1. Getting mode of the column\n",
    "2. Replacing missing values with mode."
   ]
  },
  {
   "cell_type": "markdown",
   "id": "893fab90",
   "metadata": {},
   "source": [
    "Importing Useful Libraries"
   ]
  },
  {
   "cell_type": "code",
   "execution_count": 41,
   "id": "98217658",
   "metadata": {},
   "outputs": [],
   "source": [
    "from sklearn.model_selection import train_test_split\n",
    "import pandas as pd"
   ]
  },
  {
   "cell_type": "markdown",
   "id": "5c091b2a",
   "metadata": {},
   "source": [
    "Importing Data"
   ]
  },
  {
   "cell_type": "code",
   "execution_count": 42,
   "id": "df498393",
   "metadata": {},
   "outputs": [
    {
     "data": {
      "text/html": [
       "<div>\n",
       "<style scoped>\n",
       "    .dataframe tbody tr th:only-of-type {\n",
       "        vertical-align: middle;\n",
       "    }\n",
       "\n",
       "    .dataframe tbody tr th {\n",
       "        vertical-align: top;\n",
       "    }\n",
       "\n",
       "    .dataframe thead th {\n",
       "        text-align: right;\n",
       "    }\n",
       "</style>\n",
       "<table border=\"1\" class=\"dataframe\">\n",
       "  <thead>\n",
       "    <tr style=\"text-align: right;\">\n",
       "      <th></th>\n",
       "      <th>Time_spent_Alone</th>\n",
       "      <th>Stage_fear</th>\n",
       "      <th>Social_event_attendance</th>\n",
       "      <th>Personality</th>\n",
       "    </tr>\n",
       "  </thead>\n",
       "  <tbody>\n",
       "    <tr>\n",
       "      <th>0</th>\n",
       "      <td>4.0</td>\n",
       "      <td>No</td>\n",
       "      <td>4.0</td>\n",
       "      <td>Extrovert</td>\n",
       "    </tr>\n",
       "    <tr>\n",
       "      <th>1</th>\n",
       "      <td>9.0</td>\n",
       "      <td>Yes</td>\n",
       "      <td>0.0</td>\n",
       "      <td>Introvert</td>\n",
       "    </tr>\n",
       "    <tr>\n",
       "      <th>2</th>\n",
       "      <td>9.0</td>\n",
       "      <td>Yes</td>\n",
       "      <td>1.0</td>\n",
       "      <td>Introvert</td>\n",
       "    </tr>\n",
       "    <tr>\n",
       "      <th>3</th>\n",
       "      <td>0.0</td>\n",
       "      <td>No</td>\n",
       "      <td>6.0</td>\n",
       "      <td>Extrovert</td>\n",
       "    </tr>\n",
       "    <tr>\n",
       "      <th>4</th>\n",
       "      <td>3.0</td>\n",
       "      <td>No</td>\n",
       "      <td>9.0</td>\n",
       "      <td>Extrovert</td>\n",
       "    </tr>\n",
       "  </tbody>\n",
       "</table>\n",
       "</div>"
      ],
      "text/plain": [
       "   Time_spent_Alone Stage_fear  Social_event_attendance Personality\n",
       "0               4.0         No                      4.0   Extrovert\n",
       "1               9.0        Yes                      0.0   Introvert\n",
       "2               9.0        Yes                      1.0   Introvert\n",
       "3               0.0         No                      6.0   Extrovert\n",
       "4               3.0         No                      9.0   Extrovert"
      ]
     },
     "execution_count": 42,
     "metadata": {},
     "output_type": "execute_result"
    }
   ],
   "source": [
    "df=pd.read_csv('personality_dataset.csv',usecols=['Stage_fear','Time_spent_Alone','Social_event_attendance','Personality'])\n",
    "df.head()\n"
   ]
  },
  {
   "cell_type": "markdown",
   "id": "1e26fa3e",
   "metadata": {},
   "source": [
    "Step 1"
   ]
  },
  {
   "cell_type": "code",
   "execution_count": 43,
   "id": "6b07809f",
   "metadata": {},
   "outputs": [
    {
     "data": {
      "text/plain": [
       "Time_spent_Alone           2.172414\n",
       "Stage_fear                 2.517241\n",
       "Social_event_attendance    2.137931\n",
       "Personality                0.000000\n",
       "dtype: float64"
      ]
     },
     "execution_count": 43,
     "metadata": {},
     "output_type": "execute_result"
    }
   ],
   "source": [
    "df.isnull().mean()*100"
   ]
  },
  {
   "cell_type": "markdown",
   "id": "e990a935",
   "metadata": {},
   "source": [
    "Step 2"
   ]
  },
  {
   "cell_type": "code",
   "execution_count": 44,
   "id": "7f031a3a",
   "metadata": {},
   "outputs": [],
   "source": [
    "X=df.drop(columns='Personality',axis=1)\n",
    "Y=df.Personality"
   ]
  },
  {
   "cell_type": "code",
   "execution_count": 45,
   "id": "bef4ee5a",
   "metadata": {},
   "outputs": [],
   "source": [
    "X_train,X_test,Y_train,Y_test=train_test_split(X,Y,test_size=0.2,random_state=42)"
   ]
  },
  {
   "cell_type": "code",
   "execution_count": 46,
   "id": "f1609e41",
   "metadata": {},
   "outputs": [
    {
     "name": "stdout",
     "output_type": "stream",
     "text": [
      "(2320, 3)\n",
      "(580, 3)\n"
     ]
    }
   ],
   "source": [
    "print(X_train.shape)\n",
    "print(X_test.shape)"
   ]
  },
  {
   "cell_type": "markdown",
   "id": "38585caf",
   "metadata": {},
   "source": [
    "Step 3"
   ]
  },
  {
   "cell_type": "code",
   "execution_count": 47,
   "id": "71526ef8",
   "metadata": {},
   "outputs": [],
   "source": [
    "col=[var for var in X_train.columns if X_train[var].isnull().mean()>0]"
   ]
  },
  {
   "cell_type": "code",
   "execution_count": 48,
   "id": "3e38b77e",
   "metadata": {},
   "outputs": [
    {
     "name": "stdout",
     "output_type": "stream",
     "text": [
      "['Time_spent_Alone', 'Stage_fear', 'Social_event_attendance']\n"
     ]
    }
   ],
   "source": [
    "print(col)\n"
   ]
  },
  {
   "cell_type": "code",
   "execution_count": 49,
   "id": "f1ba56db",
   "metadata": {},
   "outputs": [
    {
     "data": {
      "text/html": [
       "<div>\n",
       "<style scoped>\n",
       "    .dataframe tbody tr th:only-of-type {\n",
       "        vertical-align: middle;\n",
       "    }\n",
       "\n",
       "    .dataframe tbody tr th {\n",
       "        vertical-align: top;\n",
       "    }\n",
       "\n",
       "    .dataframe thead th {\n",
       "        text-align: right;\n",
       "    }\n",
       "</style>\n",
       "<table border=\"1\" class=\"dataframe\">\n",
       "  <thead>\n",
       "    <tr style=\"text-align: right;\">\n",
       "      <th></th>\n",
       "      <th>Time_spent_Alone</th>\n",
       "      <th>Stage_fear</th>\n",
       "      <th>Social_event_attendance</th>\n",
       "    </tr>\n",
       "  </thead>\n",
       "  <tbody>\n",
       "    <tr>\n",
       "      <th>2854</th>\n",
       "      <td>5.0</td>\n",
       "      <td>Yes</td>\n",
       "      <td>0.0</td>\n",
       "    </tr>\n",
       "    <tr>\n",
       "      <th>2372</th>\n",
       "      <td>2.0</td>\n",
       "      <td>No</td>\n",
       "      <td>9.0</td>\n",
       "    </tr>\n",
       "    <tr>\n",
       "      <th>2329</th>\n",
       "      <td>4.0</td>\n",
       "      <td>Yes</td>\n",
       "      <td>2.0</td>\n",
       "    </tr>\n",
       "    <tr>\n",
       "      <th>2018</th>\n",
       "      <td>1.0</td>\n",
       "      <td>No</td>\n",
       "      <td>7.0</td>\n",
       "    </tr>\n",
       "    <tr>\n",
       "      <th>1857</th>\n",
       "      <td>7.0</td>\n",
       "      <td>Yes</td>\n",
       "      <td>2.0</td>\n",
       "    </tr>\n",
       "    <tr>\n",
       "      <th>1571</th>\n",
       "      <td>7.0</td>\n",
       "      <td>Yes</td>\n",
       "      <td>3.0</td>\n",
       "    </tr>\n",
       "    <tr>\n",
       "      <th>2309</th>\n",
       "      <td>9.0</td>\n",
       "      <td>Yes</td>\n",
       "      <td>2.0</td>\n",
       "    </tr>\n",
       "    <tr>\n",
       "      <th>2155</th>\n",
       "      <td>3.0</td>\n",
       "      <td>No</td>\n",
       "      <td>8.0</td>\n",
       "    </tr>\n",
       "    <tr>\n",
       "      <th>2352</th>\n",
       "      <td>8.0</td>\n",
       "      <td>Yes</td>\n",
       "      <td>2.0</td>\n",
       "    </tr>\n",
       "    <tr>\n",
       "      <th>2192</th>\n",
       "      <td>0.0</td>\n",
       "      <td>No</td>\n",
       "      <td>NaN</td>\n",
       "    </tr>\n",
       "  </tbody>\n",
       "</table>\n",
       "</div>"
      ],
      "text/plain": [
       "      Time_spent_Alone Stage_fear  Social_event_attendance\n",
       "2854               5.0        Yes                      0.0\n",
       "2372               2.0         No                      9.0\n",
       "2329               4.0        Yes                      2.0\n",
       "2018               1.0         No                      7.0\n",
       "1857               7.0        Yes                      2.0\n",
       "1571               7.0        Yes                      3.0\n",
       "2309               9.0        Yes                      2.0\n",
       "2155               3.0         No                      8.0\n",
       "2352               8.0        Yes                      2.0\n",
       "2192               0.0         No                      NaN"
      ]
     },
     "execution_count": 49,
     "metadata": {},
     "output_type": "execute_result"
    }
   ],
   "source": [
    "X_train.sample(10)"
   ]
  },
  {
   "cell_type": "markdown",
   "id": "8ca5d08a",
   "metadata": {},
   "source": [
    "Step 4"
   ]
  },
  {
   "cell_type": "code",
   "execution_count": 50,
   "id": "0529df78",
   "metadata": {},
   "outputs": [],
   "source": [
    "Stage_fear_mode=X_train['Stage_fear'].mode()[0]"
   ]
  },
  {
   "cell_type": "code",
   "execution_count": 51,
   "id": "16412e8c",
   "metadata": {},
   "outputs": [
    {
     "name": "stdout",
     "output_type": "stream",
     "text": [
      "No\n"
     ]
    }
   ],
   "source": [
    "print(f'{Stage_fear_mode}')"
   ]
  },
  {
   "cell_type": "code",
   "execution_count": 52,
   "id": "bbb0a68b",
   "metadata": {},
   "outputs": [
    {
     "data": {
      "text/plain": [
       "2078     No\n",
       "163     Yes\n",
       "1938    Yes\n",
       "252     Yes\n",
       "2232    Yes\n",
       "       ... \n",
       "1638     No\n",
       "1095     No\n",
       "1130    Yes\n",
       "1294    Yes\n",
       "860     Yes\n",
       "Name: Stage_fear, Length: 2320, dtype: object"
      ]
     },
     "execution_count": 52,
     "metadata": {},
     "output_type": "execute_result"
    }
   ],
   "source": [
    "X_train['Stage_fear']"
   ]
  },
  {
   "cell_type": "markdown",
   "id": "9af0601e",
   "metadata": {},
   "source": [
    "Step 5"
   ]
  },
  {
   "cell_type": "code",
   "execution_count": 53,
   "id": "1ba3d0e5",
   "metadata": {},
   "outputs": [],
   "source": [
    "X_train['Stage_fear']=X_train['Stage_fear'].fillna(Stage_fear_mode)\n",
    "X_test['Stage_fear']=X_test['Stage_fear'].fillna(Stage_fear_mode)"
   ]
  },
  {
   "cell_type": "code",
   "execution_count": 54,
   "id": "137dfe2d",
   "metadata": {},
   "outputs": [
    {
     "name": "stdout",
     "output_type": "stream",
     "text": [
      "Time_spent_Alone           2.068966\n",
      "Stage_fear                 0.000000\n",
      "Social_event_attendance    2.068966\n",
      "dtype: float64\n"
     ]
    }
   ],
   "source": [
    "print(X_train.isnull().mean()*100)"
   ]
  },
  {
   "cell_type": "markdown",
   "id": "e34c2a2c",
   "metadata": {},
   "source": [
    "Steps (Using sk-learn)\n",
    "1. Checking which columns have Missing values\n",
    "2. Splitting data into training & testing\n",
    "3. Seperating columns on which we apply Imputation\n",
    " * Used when MCAR\n",
    "4. Make Function of Simple Imputer Class\n",
    "5. Fit_Transform Input Data (Training/Test)"
   ]
  },
  {
   "cell_type": "markdown",
   "id": "1c67a1eb",
   "metadata": {},
   "source": [
    "Importing Useful Libraries"
   ]
  },
  {
   "cell_type": "code",
   "execution_count": 55,
   "id": "618ed0dc",
   "metadata": {},
   "outputs": [],
   "source": [
    "\n",
    "from sklearn.impute import SimpleImputer"
   ]
  },
  {
   "cell_type": "markdown",
   "id": "0e1bb746",
   "metadata": {},
   "source": [
    "Step 4"
   ]
  },
  {
   "cell_type": "code",
   "execution_count": 56,
   "id": "8b9278b9",
   "metadata": {},
   "outputs": [],
   "source": [
    "# Making variable of SI class for mode\n",
    "SI_mode=SimpleImputer(strategy='most_frequent')\n",
    "\n",
    "# Making variable of SI class for 'missing' word\n",
    "SI_missing=SimpleImputer(strategy='constant',fill_value='Missing')"
   ]
  },
  {
   "cell_type": "code",
   "execution_count": 57,
   "id": "1cdd7cba",
   "metadata": {},
   "outputs": [],
   "source": [
    "# Fetching column names so after Applying fit_transform, I can make dataframe from numpy array\n",
    "columns=X_train.columns"
   ]
  },
  {
   "cell_type": "markdown",
   "id": "d0d0742e",
   "metadata": {},
   "source": [
    "Step 5"
   ]
  },
  {
   "cell_type": "code",
   "execution_count": 58,
   "id": "0b5c7c19",
   "metadata": {},
   "outputs": [],
   "source": [
    "# For Mode\n",
    "\n",
    "X_train=SI_mode.fit_transform(X_train)\n",
    "X_test=SI_mode.transform(X_test)\n",
    "    \n",
    "# For Missing word\n",
    "\n",
    "X_train=SI_missing.fit_transform(X_train)\n",
    "X_test=SI_missing.transform(X_test)\n"
   ]
  },
  {
   "cell_type": "code",
   "execution_count": 59,
   "id": "28b8b858",
   "metadata": {},
   "outputs": [],
   "source": [
    "X_train=pd.DataFrame(X_train,columns=columns)\n",
    "X_test=pd.DataFrame(X_test,columns=columns)\n"
   ]
  },
  {
   "cell_type": "code",
   "execution_count": 60,
   "id": "06cdd0ad",
   "metadata": {},
   "outputs": [
    {
     "data": {
      "text/plain": [
       "Time_spent_Alone           0.0\n",
       "Stage_fear                 0.0\n",
       "Social_event_attendance    0.0\n",
       "dtype: float64"
      ]
     },
     "execution_count": 60,
     "metadata": {},
     "output_type": "execute_result"
    }
   ],
   "source": [
    "X_train.isnull().mean()*100"
   ]
  },
  {
   "cell_type": "code",
   "execution_count": 61,
   "id": "3dfa49ca",
   "metadata": {},
   "outputs": [
    {
     "data": {
      "text/plain": [
       "1310     No\n",
       "1872     No\n",
       "1815    Yes\n",
       "2193    Yes\n",
       "1457     No\n",
       "1516    Yes\n",
       "2275     No\n",
       "2273     No\n",
       "1062    Yes\n",
       "1497     No\n",
       "866      No\n",
       "1750    Yes\n",
       "501      No\n",
       "1533     No\n",
       "1370    Yes\n",
       "610     Yes\n",
       "1016     No\n",
       "2183     No\n",
       "567      No\n",
       "1772     No\n",
       "Name: Stage_fear, dtype: object"
      ]
     },
     "execution_count": 61,
     "metadata": {},
     "output_type": "execute_result"
    }
   ],
   "source": [
    "X_train['Stage_fear'].sample(20)"
   ]
  },
  {
   "cell_type": "code",
   "execution_count": null,
   "id": "3a84b220",
   "metadata": {},
   "outputs": [],
   "source": []
  }
 ],
 "metadata": {
  "kernelspec": {
   "display_name": "venv",
   "language": "python",
   "name": "python3"
  },
  "language_info": {
   "codemirror_mode": {
    "name": "ipython",
    "version": 3
   },
   "file_extension": ".py",
   "mimetype": "text/x-python",
   "name": "python",
   "nbconvert_exporter": "python",
   "pygments_lexer": "ipython3",
   "version": "3.12.5"
  }
 },
 "nbformat": 4,
 "nbformat_minor": 5
}
