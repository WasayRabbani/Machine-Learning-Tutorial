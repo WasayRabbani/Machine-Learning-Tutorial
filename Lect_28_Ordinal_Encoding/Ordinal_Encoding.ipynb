{
 "cells": [
  {
   "cell_type": "markdown",
   "id": "8c355798",
   "metadata": {},
   "source": [
    "### Lecture 28: Ordinal Encoding"
   ]
  },
  {
   "cell_type": "markdown",
   "id": "dcc67dfd",
   "metadata": {},
   "source": [
    "Steps (Scikit-Learn)\n",
    "1. Getting all categories of Columns we want to apply ordinal encoding **to**\n",
    "2. Splitting Data into Training & Testing Data\n",
    "3. Making object of Ordinal Encoder class\n",
    "4. Applying fit_transform and save to new variable\n",
    "5. Update X train & X test"
   ]
  },
  {
   "cell_type": "markdown",
   "id": "03f64a1e",
   "metadata": {},
   "source": [
    "Importing Libraries"
   ]
  },
  {
   "cell_type": "code",
   "execution_count": 2,
   "id": "2f9af805",
   "metadata": {},
   "outputs": [],
   "source": [
    "import numpy as np\n",
    "import pandas as pd\n",
    "from sklearn.model_selection import train_test_split\n",
    "from sklearn.preprocessing import OrdinalEncoder,LabelEncoder"
   ]
  },
  {
   "cell_type": "markdown",
   "id": "bcfd33f3",
   "metadata": {},
   "source": [
    "Importing Data"
   ]
  },
  {
   "cell_type": "code",
   "execution_count": 3,
   "id": "1a95ebfd",
   "metadata": {},
   "outputs": [
    {
     "data": {
      "text/html": [
       "<div>\n",
       "<style scoped>\n",
       "    .dataframe tbody tr th:only-of-type {\n",
       "        vertical-align: middle;\n",
       "    }\n",
       "\n",
       "    .dataframe tbody tr th {\n",
       "        vertical-align: top;\n",
       "    }\n",
       "\n",
       "    .dataframe thead th {\n",
       "        text-align: right;\n",
       "    }\n",
       "</style>\n",
       "<table border=\"1\" class=\"dataframe\">\n",
       "  <thead>\n",
       "    <tr style=\"text-align: right;\">\n",
       "      <th></th>\n",
       "      <th>id</th>\n",
       "      <th>name</th>\n",
       "      <th>age</th>\n",
       "      <th>gender</th>\n",
       "      <th>country</th>\n",
       "      <th>city</th>\n",
       "      <th>education_level</th>\n",
       "      <th>employment_status</th>\n",
       "      <th>annual_income_usd</th>\n",
       "      <th>marital_status</th>\n",
       "      <th>...</th>\n",
       "      <th>attempts_to_quit_smoking</th>\n",
       "      <th>attempts_to_quit_drinking</th>\n",
       "      <th>has_health_issues</th>\n",
       "      <th>mental_health_status</th>\n",
       "      <th>exercise_frequency</th>\n",
       "      <th>diet_quality</th>\n",
       "      <th>sleep_hours</th>\n",
       "      <th>bmi</th>\n",
       "      <th>social_support</th>\n",
       "      <th>therapy_history</th>\n",
       "    </tr>\n",
       "  </thead>\n",
       "  <tbody>\n",
       "    <tr>\n",
       "      <th>0</th>\n",
       "      <td>1</td>\n",
       "      <td>Michael Bates</td>\n",
       "      <td>66.0</td>\n",
       "      <td>Other</td>\n",
       "      <td>Yemen</td>\n",
       "      <td>Martinmouth</td>\n",
       "      <td>Secondary</td>\n",
       "      <td>Student</td>\n",
       "      <td>45595</td>\n",
       "      <td>Married</td>\n",
       "      <td>...</td>\n",
       "      <td>6</td>\n",
       "      <td>2</td>\n",
       "      <td>True</td>\n",
       "      <td>Good</td>\n",
       "      <td>Daily</td>\n",
       "      <td>Average</td>\n",
       "      <td>5.6</td>\n",
       "      <td>22.4</td>\n",
       "      <td>NaN</td>\n",
       "      <td>Current</td>\n",
       "    </tr>\n",
       "    <tr>\n",
       "      <th>1</th>\n",
       "      <td>2</td>\n",
       "      <td>Brian Thompson</td>\n",
       "      <td>29.0</td>\n",
       "      <td>Male</td>\n",
       "      <td>Saudi Arabia</td>\n",
       "      <td>Harperhaven</td>\n",
       "      <td>Primary</td>\n",
       "      <td>Self-Employed</td>\n",
       "      <td>145842</td>\n",
       "      <td>Single</td>\n",
       "      <td>...</td>\n",
       "      <td>1</td>\n",
       "      <td>6</td>\n",
       "      <td>False</td>\n",
       "      <td>Poor</td>\n",
       "      <td>Weekly</td>\n",
       "      <td>Good</td>\n",
       "      <td>6.7</td>\n",
       "      <td>24.1</td>\n",
       "      <td>Moderate</td>\n",
       "      <td>NaN</td>\n",
       "    </tr>\n",
       "    <tr>\n",
       "      <th>2</th>\n",
       "      <td>3</td>\n",
       "      <td>Steven Little</td>\n",
       "      <td>75.0</td>\n",
       "      <td>Male</td>\n",
       "      <td>Togo</td>\n",
       "      <td>Chanport</td>\n",
       "      <td>Postgraduate</td>\n",
       "      <td>Unemployed</td>\n",
       "      <td>162480</td>\n",
       "      <td>Single</td>\n",
       "      <td>...</td>\n",
       "      <td>9</td>\n",
       "      <td>9</td>\n",
       "      <td>True</td>\n",
       "      <td>Good</td>\n",
       "      <td>Never</td>\n",
       "      <td>Good</td>\n",
       "      <td>6.2</td>\n",
       "      <td>22.2</td>\n",
       "      <td>Weak</td>\n",
       "      <td>NaN</td>\n",
       "    </tr>\n",
       "    <tr>\n",
       "      <th>3</th>\n",
       "      <td>4</td>\n",
       "      <td>Michael Mathews</td>\n",
       "      <td>35.0</td>\n",
       "      <td>Other</td>\n",
       "      <td>Togo</td>\n",
       "      <td>North Cory</td>\n",
       "      <td>University</td>\n",
       "      <td>Unemployed</td>\n",
       "      <td>16023</td>\n",
       "      <td>In a relationship</td>\n",
       "      <td>...</td>\n",
       "      <td>5</td>\n",
       "      <td>7</td>\n",
       "      <td>False</td>\n",
       "      <td>Average</td>\n",
       "      <td>Daily</td>\n",
       "      <td>Good</td>\n",
       "      <td>7.2</td>\n",
       "      <td>25.5</td>\n",
       "      <td>Moderate</td>\n",
       "      <td>Current</td>\n",
       "    </tr>\n",
       "    <tr>\n",
       "      <th>4</th>\n",
       "      <td>5</td>\n",
       "      <td>Nicholas Sanchez</td>\n",
       "      <td>38.0</td>\n",
       "      <td>Female</td>\n",
       "      <td>Morocco</td>\n",
       "      <td>Danielberg</td>\n",
       "      <td>College</td>\n",
       "      <td>Self-Employed</td>\n",
       "      <td>62933</td>\n",
       "      <td>In a relationship</td>\n",
       "      <td>...</td>\n",
       "      <td>4</td>\n",
       "      <td>7</td>\n",
       "      <td>True</td>\n",
       "      <td>Poor</td>\n",
       "      <td>Weekly</td>\n",
       "      <td>Good</td>\n",
       "      <td>8.5</td>\n",
       "      <td>31.2</td>\n",
       "      <td>Weak</td>\n",
       "      <td>Past</td>\n",
       "    </tr>\n",
       "  </tbody>\n",
       "</table>\n",
       "<p>5 rows × 25 columns</p>\n",
       "</div>"
      ],
      "text/plain": [
       "   id              name   age  gender       country         city  \\\n",
       "0   1     Michael Bates  66.0   Other         Yemen  Martinmouth   \n",
       "1   2    Brian Thompson  29.0    Male  Saudi Arabia  Harperhaven   \n",
       "2   3     Steven Little  75.0    Male          Togo     Chanport   \n",
       "3   4   Michael Mathews  35.0   Other          Togo   North Cory   \n",
       "4   5  Nicholas Sanchez  38.0  Female       Morocco   Danielberg   \n",
       "\n",
       "  education_level employment_status  annual_income_usd     marital_status  \\\n",
       "0       Secondary           Student              45595            Married   \n",
       "1         Primary     Self-Employed             145842             Single   \n",
       "2    Postgraduate        Unemployed             162480             Single   \n",
       "3      University        Unemployed              16023  In a relationship   \n",
       "4         College     Self-Employed              62933  In a relationship   \n",
       "\n",
       "   ...  attempts_to_quit_smoking  attempts_to_quit_drinking  \\\n",
       "0  ...                         6                          2   \n",
       "1  ...                         1                          6   \n",
       "2  ...                         9                          9   \n",
       "3  ...                         5                          7   \n",
       "4  ...                         4                          7   \n",
       "\n",
       "   has_health_issues  mental_health_status  exercise_frequency  diet_quality  \\\n",
       "0               True                  Good               Daily       Average   \n",
       "1              False                  Poor              Weekly          Good   \n",
       "2               True                  Good               Never          Good   \n",
       "3              False               Average               Daily          Good   \n",
       "4               True                  Poor              Weekly          Good   \n",
       "\n",
       "   sleep_hours   bmi social_support therapy_history  \n",
       "0          5.6  22.4            NaN         Current  \n",
       "1          6.7  24.1       Moderate             NaN  \n",
       "2          6.2  22.2           Weak             NaN  \n",
       "3          7.2  25.5       Moderate         Current  \n",
       "4          8.5  31.2           Weak            Past  \n",
       "\n",
       "[5 rows x 25 columns]"
      ]
     },
     "execution_count": 3,
     "metadata": {},
     "output_type": "execute_result"
    }
   ],
   "source": [
    "df=pd.read_csv('addiction_population_data.csv')\n",
    "df.head(5)"
   ]
  },
  {
   "cell_type": "code",
   "execution_count": 4,
   "id": "051198f8",
   "metadata": {},
   "outputs": [
    {
     "data": {
      "text/html": [
       "<div>\n",
       "<style scoped>\n",
       "    .dataframe tbody tr th:only-of-type {\n",
       "        vertical-align: middle;\n",
       "    }\n",
       "\n",
       "    .dataframe tbody tr th {\n",
       "        vertical-align: top;\n",
       "    }\n",
       "\n",
       "    .dataframe thead th {\n",
       "        text-align: right;\n",
       "    }\n",
       "</style>\n",
       "<table border=\"1\" class=\"dataframe\">\n",
       "  <thead>\n",
       "    <tr style=\"text-align: right;\">\n",
       "      <th></th>\n",
       "      <th>education_level</th>\n",
       "      <th>mental_health_status</th>\n",
       "      <th>diet_quality</th>\n",
       "    </tr>\n",
       "  </thead>\n",
       "  <tbody>\n",
       "    <tr>\n",
       "      <th>0</th>\n",
       "      <td>Secondary</td>\n",
       "      <td>Good</td>\n",
       "      <td>Average</td>\n",
       "    </tr>\n",
       "    <tr>\n",
       "      <th>1</th>\n",
       "      <td>Primary</td>\n",
       "      <td>Poor</td>\n",
       "      <td>Good</td>\n",
       "    </tr>\n",
       "    <tr>\n",
       "      <th>2</th>\n",
       "      <td>Postgraduate</td>\n",
       "      <td>Good</td>\n",
       "      <td>Good</td>\n",
       "    </tr>\n",
       "    <tr>\n",
       "      <th>3</th>\n",
       "      <td>University</td>\n",
       "      <td>Average</td>\n",
       "      <td>Good</td>\n",
       "    </tr>\n",
       "    <tr>\n",
       "      <th>4</th>\n",
       "      <td>College</td>\n",
       "      <td>Poor</td>\n",
       "      <td>Good</td>\n",
       "    </tr>\n",
       "  </tbody>\n",
       "</table>\n",
       "</div>"
      ],
      "text/plain": [
       "  education_level mental_health_status diet_quality\n",
       "0       Secondary                 Good      Average\n",
       "1         Primary                 Poor         Good\n",
       "2    Postgraduate                 Good         Good\n",
       "3      University              Average         Good\n",
       "4         College                 Poor         Good"
      ]
     },
     "execution_count": 4,
     "metadata": {},
     "output_type": "execute_result"
    }
   ],
   "source": [
    "df=pd.read_csv('addiction_population_data.csv',usecols=['education_level','diet_quality','mental_health_status'])\n",
    "df.head()"
   ]
  },
  {
   "cell_type": "markdown",
   "id": "de330817",
   "metadata": {},
   "source": [
    "Step 1: Getting all categories of Columns we want to apply ordinal encoding to "
   ]
  },
  {
   "cell_type": "code",
   "execution_count": 5,
   "id": "a29a4164",
   "metadata": {},
   "outputs": [
    {
     "data": {
      "text/plain": [
       "education_level\n",
       "University      464\n",
       "Postgraduate    447\n",
       "High School     428\n",
       "Primary         417\n",
       "Secondary       415\n",
       "College         409\n",
       "Name: count, dtype: int64"
      ]
     },
     "execution_count": 5,
     "metadata": {},
     "output_type": "execute_result"
    }
   ],
   "source": [
    "df['education_level'].value_counts()"
   ]
  },
  {
   "cell_type": "code",
   "execution_count": 6,
   "id": "db7798ab",
   "metadata": {},
   "outputs": [
    {
     "data": {
      "text/plain": [
       "diet_quality\n",
       "Poor       1047\n",
       "Good       1001\n",
       "Average     952\n",
       "Name: count, dtype: int64"
      ]
     },
     "execution_count": 6,
     "metadata": {},
     "output_type": "execute_result"
    }
   ],
   "source": [
    "df['diet_quality'].value_counts()"
   ]
  },
  {
   "cell_type": "markdown",
   "id": "02c5401f",
   "metadata": {},
   "source": [
    "Step 2: Splitting Data into Training & Testing Data"
   ]
  },
  {
   "cell_type": "code",
   "execution_count": 7,
   "id": "8b3032c2",
   "metadata": {},
   "outputs": [],
   "source": [
    "X=df.drop(columns='mental_health_status',axis=1)\n",
    "Y=df.mental_health_status"
   ]
  },
  {
   "cell_type": "code",
   "execution_count": 8,
   "id": "2d3d1162",
   "metadata": {},
   "outputs": [],
   "source": [
    "X_train,X_test,Y_train,Y_test=train_test_split(X,Y,test_size=0.2,random_state=42)"
   ]
  },
  {
   "cell_type": "markdown",
   "id": "ae3be32d",
   "metadata": {},
   "source": [
    "Step 3: Making object of Ordinal Encoder class"
   ]
  },
  {
   "cell_type": "code",
   "execution_count": 9,
   "id": "9cc8260c",
   "metadata": {},
   "outputs": [],
   "source": [
    "OE=OrdinalEncoder(categories=[['Primary','Secondary','High School','College','University','Postgraduate'],\n",
    " ['Poor','Average','Good']])\n"
   ]
  },
  {
   "cell_type": "code",
   "execution_count": 10,
   "id": "3bf30378",
   "metadata": {},
   "outputs": [],
   "source": [
    "X_train['education_level']=X_train['education_level'].fillna(X_train['education_level'].mode()[0])\n",
    "X_test['education_level']=X_test['education_level'].fillna(X_test['education_level'].mode()[0])"
   ]
  },
  {
   "cell_type": "markdown",
   "id": "7d5627ab",
   "metadata": {},
   "source": [
    "Step 4:Applying fit_transform and save to new variable"
   ]
  },
  {
   "cell_type": "code",
   "execution_count": 11,
   "id": "8250733f",
   "metadata": {},
   "outputs": [],
   "source": [
    "X_train_new=OE.fit_transform(X_train)\n",
    "X_test_new=OE.transform(X_test)"
   ]
  },
  {
   "cell_type": "markdown",
   "id": "9e4b2fd9",
   "metadata": {},
   "source": [
    "Applying Label Encoding"
   ]
  },
  {
   "cell_type": "code",
   "execution_count": 12,
   "id": "6c6ab9af",
   "metadata": {},
   "outputs": [],
   "source": [
    "LE=LabelEncoder()\n",
    "Y_train=LE.fit_transform(Y_train)\n",
    "Y_test=LE.transform(Y_test)"
   ]
  },
  {
   "cell_type": "markdown",
   "id": "3537f2e0",
   "metadata": {},
   "source": [
    "Fetching column names"
   ]
  },
  {
   "cell_type": "code",
   "execution_count": 13,
   "id": "e86e729b",
   "metadata": {},
   "outputs": [],
   "source": [
    "col=OE.get_feature_names_out()"
   ]
  },
  {
   "cell_type": "markdown",
   "id": "e769506e",
   "metadata": {},
   "source": [
    "Step 5: Update X train & X test"
   ]
  },
  {
   "cell_type": "code",
   "execution_count": 14,
   "id": "6ea0be6a",
   "metadata": {},
   "outputs": [],
   "source": [
    "X_train=pd.DataFrame(X_train_new,columns=col)\n",
    "X_test=pd.DataFrame(X_test_new,columns=col)"
   ]
  },
  {
   "cell_type": "code",
   "execution_count": 15,
   "id": "bd1e6cab",
   "metadata": {},
   "outputs": [
    {
     "data": {
      "text/html": [
       "<div>\n",
       "<style scoped>\n",
       "    .dataframe tbody tr th:only-of-type {\n",
       "        vertical-align: middle;\n",
       "    }\n",
       "\n",
       "    .dataframe tbody tr th {\n",
       "        vertical-align: top;\n",
       "    }\n",
       "\n",
       "    .dataframe thead th {\n",
       "        text-align: right;\n",
       "    }\n",
       "</style>\n",
       "<table border=\"1\" class=\"dataframe\">\n",
       "  <thead>\n",
       "    <tr style=\"text-align: right;\">\n",
       "      <th></th>\n",
       "      <th>education_level</th>\n",
       "      <th>diet_quality</th>\n",
       "    </tr>\n",
       "  </thead>\n",
       "  <tbody>\n",
       "    <tr>\n",
       "      <th>0</th>\n",
       "      <td>4.0</td>\n",
       "      <td>0.0</td>\n",
       "    </tr>\n",
       "    <tr>\n",
       "      <th>1</th>\n",
       "      <td>1.0</td>\n",
       "      <td>2.0</td>\n",
       "    </tr>\n",
       "    <tr>\n",
       "      <th>2</th>\n",
       "      <td>3.0</td>\n",
       "      <td>0.0</td>\n",
       "    </tr>\n",
       "    <tr>\n",
       "      <th>3</th>\n",
       "      <td>3.0</td>\n",
       "      <td>0.0</td>\n",
       "    </tr>\n",
       "    <tr>\n",
       "      <th>4</th>\n",
       "      <td>5.0</td>\n",
       "      <td>0.0</td>\n",
       "    </tr>\n",
       "    <tr>\n",
       "      <th>...</th>\n",
       "      <td>...</td>\n",
       "      <td>...</td>\n",
       "    </tr>\n",
       "    <tr>\n",
       "      <th>2395</th>\n",
       "      <td>3.0</td>\n",
       "      <td>0.0</td>\n",
       "    </tr>\n",
       "    <tr>\n",
       "      <th>2396</th>\n",
       "      <td>4.0</td>\n",
       "      <td>2.0</td>\n",
       "    </tr>\n",
       "    <tr>\n",
       "      <th>2397</th>\n",
       "      <td>4.0</td>\n",
       "      <td>2.0</td>\n",
       "    </tr>\n",
       "    <tr>\n",
       "      <th>2398</th>\n",
       "      <td>1.0</td>\n",
       "      <td>0.0</td>\n",
       "    </tr>\n",
       "    <tr>\n",
       "      <th>2399</th>\n",
       "      <td>4.0</td>\n",
       "      <td>0.0</td>\n",
       "    </tr>\n",
       "  </tbody>\n",
       "</table>\n",
       "<p>2400 rows × 2 columns</p>\n",
       "</div>"
      ],
      "text/plain": [
       "      education_level  diet_quality\n",
       "0                 4.0           0.0\n",
       "1                 1.0           2.0\n",
       "2                 3.0           0.0\n",
       "3                 3.0           0.0\n",
       "4                 5.0           0.0\n",
       "...               ...           ...\n",
       "2395              3.0           0.0\n",
       "2396              4.0           2.0\n",
       "2397              4.0           2.0\n",
       "2398              1.0           0.0\n",
       "2399              4.0           0.0\n",
       "\n",
       "[2400 rows x 2 columns]"
      ]
     },
     "execution_count": 15,
     "metadata": {},
     "output_type": "execute_result"
    }
   ],
   "source": [
    "X_train"
   ]
  },
  {
   "cell_type": "code",
   "execution_count": 16,
   "id": "04c8bfab",
   "metadata": {},
   "outputs": [
    {
     "data": {
      "text/plain": [
       "array([1, 0, 2, ..., 2, 0, 0])"
      ]
     },
     "execution_count": 16,
     "metadata": {},
     "output_type": "execute_result"
    }
   ],
   "source": [
    "Y_train"
   ]
  },
  {
   "cell_type": "code",
   "execution_count": null,
   "id": "292642ec",
   "metadata": {},
   "outputs": [],
   "source": []
  }
 ],
 "metadata": {
  "kernelspec": {
   "display_name": "venv",
   "language": "python",
   "name": "python3"
  },
  "language_info": {
   "codemirror_mode": {
    "name": "ipython",
    "version": 3
   },
   "file_extension": ".py",
   "mimetype": "text/x-python",
   "name": "python",
   "nbconvert_exporter": "python",
   "pygments_lexer": "ipython3",
   "version": "3.12.5"
  }
 },
 "nbformat": 4,
 "nbformat_minor": 5
}
