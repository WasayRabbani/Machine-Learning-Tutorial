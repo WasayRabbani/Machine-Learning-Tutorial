{
 "cells": [
  {
   "cell_type": "markdown",
   "id": "1441aedb",
   "metadata": {},
   "source": [
    "# Lecture 36: Pipelines"
   ]
  },
  {
   "cell_type": "markdown",
   "id": "90094907",
   "metadata": {},
   "source": [
    "## Making Model without Pipelines"
   ]
  },
  {
   "cell_type": "markdown",
   "id": "95189aec",
   "metadata": {},
   "source": [
    "Importing Libraries"
   ]
  },
  {
   "cell_type": "code",
   "execution_count": 1,
   "id": "bffd0372",
   "metadata": {},
   "outputs": [],
   "source": [
    "import pandas as pd\n",
    "import numpy as np"
   ]
  },
  {
   "cell_type": "markdown",
   "id": "d54866c1",
   "metadata": {},
   "source": [
    "Importing Data Frame"
   ]
  },
  {
   "cell_type": "code",
   "execution_count": 2,
   "id": "dbf0690f",
   "metadata": {},
   "outputs": [
    {
     "data": {
      "text/html": [
       "<div>\n",
       "<style scoped>\n",
       "    .dataframe tbody tr th:only-of-type {\n",
       "        vertical-align: middle;\n",
       "    }\n",
       "\n",
       "    .dataframe tbody tr th {\n",
       "        vertical-align: top;\n",
       "    }\n",
       "\n",
       "    .dataframe thead th {\n",
       "        text-align: right;\n",
       "    }\n",
       "</style>\n",
       "<table border=\"1\" class=\"dataframe\">\n",
       "  <thead>\n",
       "    <tr style=\"text-align: right;\">\n",
       "      <th></th>\n",
       "      <th>age</th>\n",
       "      <th>workclass</th>\n",
       "      <th>education.num</th>\n",
       "      <th>marital.status</th>\n",
       "      <th>relationship</th>\n",
       "      <th>sex</th>\n",
       "      <th>capital.gain</th>\n",
       "      <th>native.country</th>\n",
       "      <th>income</th>\n",
       "    </tr>\n",
       "  </thead>\n",
       "  <tbody>\n",
       "    <tr>\n",
       "      <th>0</th>\n",
       "      <td>90</td>\n",
       "      <td>?</td>\n",
       "      <td>9</td>\n",
       "      <td>Widowed</td>\n",
       "      <td>Not-in-family</td>\n",
       "      <td>Female</td>\n",
       "      <td>0</td>\n",
       "      <td>United-States</td>\n",
       "      <td>&lt;=50K</td>\n",
       "    </tr>\n",
       "    <tr>\n",
       "      <th>1</th>\n",
       "      <td>82</td>\n",
       "      <td>Private</td>\n",
       "      <td>9</td>\n",
       "      <td>Widowed</td>\n",
       "      <td>Not-in-family</td>\n",
       "      <td>Female</td>\n",
       "      <td>0</td>\n",
       "      <td>United-States</td>\n",
       "      <td>&lt;=50K</td>\n",
       "    </tr>\n",
       "    <tr>\n",
       "      <th>2</th>\n",
       "      <td>66</td>\n",
       "      <td>?</td>\n",
       "      <td>10</td>\n",
       "      <td>Widowed</td>\n",
       "      <td>Unmarried</td>\n",
       "      <td>Female</td>\n",
       "      <td>0</td>\n",
       "      <td>United-States</td>\n",
       "      <td>&lt;=50K</td>\n",
       "    </tr>\n",
       "    <tr>\n",
       "      <th>3</th>\n",
       "      <td>54</td>\n",
       "      <td>Private</td>\n",
       "      <td>4</td>\n",
       "      <td>Divorced</td>\n",
       "      <td>Unmarried</td>\n",
       "      <td>Female</td>\n",
       "      <td>0</td>\n",
       "      <td>United-States</td>\n",
       "      <td>&lt;=50K</td>\n",
       "    </tr>\n",
       "    <tr>\n",
       "      <th>4</th>\n",
       "      <td>41</td>\n",
       "      <td>Private</td>\n",
       "      <td>10</td>\n",
       "      <td>Separated</td>\n",
       "      <td>Own-child</td>\n",
       "      <td>Female</td>\n",
       "      <td>0</td>\n",
       "      <td>United-States</td>\n",
       "      <td>&lt;=50K</td>\n",
       "    </tr>\n",
       "  </tbody>\n",
       "</table>\n",
       "</div>"
      ],
      "text/plain": [
       "   age workclass  education.num marital.status   relationship     sex  \\\n",
       "0   90         ?              9        Widowed  Not-in-family  Female   \n",
       "1   82   Private              9        Widowed  Not-in-family  Female   \n",
       "2   66         ?             10        Widowed      Unmarried  Female   \n",
       "3   54   Private              4       Divorced      Unmarried  Female   \n",
       "4   41   Private             10      Separated      Own-child  Female   \n",
       "\n",
       "   capital.gain native.country income  \n",
       "0             0  United-States  <=50K  \n",
       "1             0  United-States  <=50K  \n",
       "2             0  United-States  <=50K  \n",
       "3             0  United-States  <=50K  \n",
       "4             0  United-States  <=50K  "
      ]
     },
     "execution_count": 2,
     "metadata": {},
     "output_type": "execute_result"
    }
   ],
   "source": [
    "df=pd.read_csv('data.csv')\n",
    "\n",
    "df.drop(columns=['hours.per.week','capital.loss','race','fnlwgt','education','occupation'],inplace=True)\n",
    "\n",
    "df.head()"
   ]
  },
  {
   "cell_type": "code",
   "execution_count": 3,
   "id": "b062aa3c",
   "metadata": {},
   "outputs": [],
   "source": [
    "from sklearn.model_selection import train_test_split\n",
    "X_train,X_test,y_train,y_test=train_test_split(df.drop(columns=['income']),df.income,test_size=0.2,random_state=42)"
   ]
  },
  {
   "cell_type": "code",
   "execution_count": 4,
   "id": "17b1b10d",
   "metadata": {},
   "outputs": [],
   "source": [
    "from sklearn.preprocessing import OneHotEncoder\n",
    "\n",
    "# Separate encoders\n",
    "OHE_workclass = OneHotEncoder(sparse_output=False, dtype='int')\n",
    "OHE_marital_status = OneHotEncoder(sparse_output=False, dtype='int')\n",
    "OHE_relationship = OneHotEncoder(sparse_output=False, dtype='int')\n",
    "OHE_sex = OneHotEncoder(sparse_output=False, dtype='int')\n",
    "OHE_native_country = OneHotEncoder(sparse_output=False, dtype='int')\n",
    "\n",
    "# Fit-transform on train, transform on test\n",
    "X_train_workclass = OHE_workclass.fit_transform(X_train[['workclass']])\n",
    "X_test_workclass = OHE_workclass.transform(X_test[['workclass']])\n",
    "\n",
    "X_train_marital_status = OHE_marital_status.fit_transform(X_train[['marital.status']])\n",
    "X_test_marital_status = OHE_marital_status.transform(X_test[['marital.status']])\n",
    "\n",
    "X_train_relationship = OHE_relationship.fit_transform(X_train[['relationship']])\n",
    "X_test_relationship = OHE_relationship.transform(X_test[['relationship']])\n",
    "\n",
    "X_train_sex = OHE_sex.fit_transform(X_train[['sex']])\n",
    "X_test_sex = OHE_sex.transform(X_test[['sex']])\n",
    "\n",
    "X_train_native_country = OHE_native_country.fit_transform(X_train[['native.country']])\n",
    "X_test_native_country = OHE_native_country.transform(X_test[['native.country']])\n"
   ]
  },
  {
   "cell_type": "code",
   "execution_count": 5,
   "id": "fe37e3f8",
   "metadata": {},
   "outputs": [],
   "source": [
    "X_train_age=X_train[['age']]\n",
    "X_test_age=X_test[['age']]\n",
    "\n",
    "X_train_capital_gain=X_train[['capital.gain']]\n",
    "X_test_capital_gain=X_test[['capital.gain']]\n",
    "\n",
    "X_train_education_num=X_train[['education.num']]\n",
    "X_test_education_num=X_test[['education.num']]\n",
    "\n"
   ]
  },
  {
   "cell_type": "code",
   "execution_count": 6,
   "id": "3e7be680",
   "metadata": {},
   "outputs": [],
   "source": [
    "X_train_new=np.concatenate((X_train_age,X_train_workclass,X_train_education_num,X_train_marital_status,X_train_relationship,X_train_sex,X_train_capital_gain,X_train_native_country),axis=1)\n",
    "\n",
    "X_test_new=np.concatenate((X_test_age,X_test_workclass,X_test_education_num,X_test_marital_status,X_test_relationship,X_test_sex,X_test_capital_gain,X_test_native_country),axis=1)"
   ]
  },
  {
   "cell_type": "code",
   "execution_count": 7,
   "id": "e95acf26",
   "metadata": {},
   "outputs": [
    {
     "name": "stderr",
     "output_type": "stream",
     "text": [
      "d:\\Coding Stuff\\Channel\\Machine Learning\\venv\\Lib\\site-packages\\sklearn\\linear_model\\_logistic.py:465: ConvergenceWarning: lbfgs failed to converge (status=1):\n",
      "STOP: TOTAL NO. OF ITERATIONS REACHED LIMIT.\n",
      "\n",
      "Increase the number of iterations (max_iter) or scale the data as shown in:\n",
      "    https://scikit-learn.org/stable/modules/preprocessing.html\n",
      "Please also refer to the documentation for alternative solver options:\n",
      "    https://scikit-learn.org/stable/modules/linear_model.html#logistic-regression\n",
      "  n_iter_i = _check_optimize_result(\n"
     ]
    }
   ],
   "source": [
    "from sklearn.linear_model import LogisticRegression\n",
    "from sklearn.metrics import accuracy_score\n",
    "\n",
    "model=LogisticRegression(random_state=42,max_iter=1000)\n",
    "\n",
    "model.fit(X_train_new,y_train)\n",
    "\n",
    "y_pred_train=model.predict(X_train_new)\n",
    "y_pred_test=model.predict(X_test_new)\n",
    "\n",
    "\n",
    "training_acc=accuracy_score(y_train,y_pred_train)\n",
    "test_acc=accuracy_score(y_test,y_pred_test)"
   ]
  },
  {
   "cell_type": "code",
   "execution_count": 8,
   "id": "945aa81d",
   "metadata": {},
   "outputs": [
    {
     "name": "stdout",
     "output_type": "stream",
     "text": [
      "Training Accuracy: 0.8410\n",
      "Test Accuracy:     0.8419\n"
     ]
    }
   ],
   "source": [
    "print(f\"Training Accuracy: {training_acc:.4f}\")\n",
    "print(f\"Test Accuracy:     {test_acc:.4f}\") # 'acc' is the test accuracy you already calculated"
   ]
  },
  {
   "cell_type": "markdown",
   "id": "a56ba64b",
   "metadata": {},
   "source": [
    "Exporting the model"
   ]
  },
  {
   "cell_type": "code",
   "execution_count": 9,
   "id": "93ef1598",
   "metadata": {},
   "outputs": [
    {
     "data": {
      "text/plain": [
       "['without_pipeline.pkl']"
      ]
     },
     "execution_count": 9,
     "metadata": {},
     "output_type": "execute_result"
    }
   ],
   "source": [
    "import joblib\n",
    "joblib.dump(\n",
    "  {\n",
    "      'model':model,\n",
    "      'OHE_workclass':OHE_workclass,\n",
    "      'marital_status':OHE_marital_status,\n",
    "      'relationship':OHE_relationship,\n",
    "      'sex':OHE_sex,\n",
    "      'native_country':OHE_native_country\n",
    "        }, 'without_pipeline.pkl'  \n",
    "\n",
    ")"
   ]
  }
 ],
 "metadata": {
  "kernelspec": {
   "display_name": "venv",
   "language": "python",
   "name": "python3"
  },
  "language_info": {
   "codemirror_mode": {
    "name": "ipython",
    "version": 3
   },
   "file_extension": ".py",
   "mimetype": "text/x-python",
   "name": "python",
   "nbconvert_exporter": "python",
   "pygments_lexer": "ipython3",
   "version": "3.12.5"
  }
 },
 "nbformat": 4,
 "nbformat_minor": 5
}
