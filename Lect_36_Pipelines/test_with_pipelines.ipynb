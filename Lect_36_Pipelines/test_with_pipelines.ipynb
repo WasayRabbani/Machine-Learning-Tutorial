{
 "cells": [
  {
   "cell_type": "markdown",
   "id": "464f53e7",
   "metadata": {},
   "source": [
    "## Testing Model (Pipeline Method)"
   ]
  },
  {
   "cell_type": "code",
   "execution_count": 3,
   "id": "dbf615c7",
   "metadata": {},
   "outputs": [],
   "source": [
    "import pandas as pd\n",
    "import joblib\n",
    "\n",
    "saved_data = joblib.load('with_pipeline.pkl')\n",
    "pipeline = saved_data['pipe'] "
   ]
  },
  {
   "cell_type": "code",
   "execution_count": 4,
   "id": "eaec1367",
   "metadata": {},
   "outputs": [],
   "source": [
    "column_names = [\n",
    "    'age', 'workclass', 'education.num', 'marital.status',\n",
    "    'relationship', 'sex', 'capital.gain', 'native.country'\n",
    "]\n",
    "\n",
    "user_input = [[39, 'State-gov', 13, 'Never-married', 'Not-in-family', 'Male', 2174, 'United-States']]\n",
    "\n",
    "input_df = pd.DataFrame(user_input, columns=column_names)"
   ]
  },
  {
   "cell_type": "code",
   "execution_count": 6,
   "id": "a5bcff1d",
   "metadata": {},
   "outputs": [
    {
     "name": "stdout",
     "output_type": "stream",
     "text": [
      "➡️ Predicted Class: <=50K\n",
      "[[0.84554379 0.15445621]]\n"
     ]
    }
   ],
   "source": [
    "prediction = pipeline.predict(input_df)\n",
    "probabilities = pipeline.predict_proba(input_df)\n",
    "\n",
    "print(f\"➡️ Predicted Class: {prediction[0]}\")\n",
    "print(probabilities)\n"
   ]
  }
 ],
 "metadata": {
  "kernelspec": {
   "display_name": "venv",
   "language": "python",
   "name": "python3"
  },
  "language_info": {
   "codemirror_mode": {
    "name": "ipython",
    "version": 3
   },
   "file_extension": ".py",
   "mimetype": "text/x-python",
   "name": "python",
   "nbconvert_exporter": "python",
   "pygments_lexer": "ipython3",
   "version": "3.12.5"
  }
 },
 "nbformat": 4,
 "nbformat_minor": 5
}
