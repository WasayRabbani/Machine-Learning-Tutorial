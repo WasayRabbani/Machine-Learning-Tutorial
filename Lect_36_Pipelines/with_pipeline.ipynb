{
 "cells": [
  {
   "cell_type": "markdown",
   "id": "6ef86148",
   "metadata": {},
   "source": [
    "## Making Model with Pipelines"
   ]
  },
  {
   "cell_type": "code",
   "execution_count": 1,
   "id": "86e5e850",
   "metadata": {},
   "outputs": [
    {
     "data": {
      "text/html": [
       "<div>\n",
       "<style scoped>\n",
       "    .dataframe tbody tr th:only-of-type {\n",
       "        vertical-align: middle;\n",
       "    }\n",
       "\n",
       "    .dataframe tbody tr th {\n",
       "        vertical-align: top;\n",
       "    }\n",
       "\n",
       "    .dataframe thead th {\n",
       "        text-align: right;\n",
       "    }\n",
       "</style>\n",
       "<table border=\"1\" class=\"dataframe\">\n",
       "  <thead>\n",
       "    <tr style=\"text-align: right;\">\n",
       "      <th></th>\n",
       "      <th>age</th>\n",
       "      <th>workclass</th>\n",
       "      <th>education.num</th>\n",
       "      <th>marital.status</th>\n",
       "      <th>relationship</th>\n",
       "      <th>sex</th>\n",
       "      <th>capital.gain</th>\n",
       "      <th>native.country</th>\n",
       "      <th>income</th>\n",
       "    </tr>\n",
       "  </thead>\n",
       "  <tbody>\n",
       "    <tr>\n",
       "      <th>0</th>\n",
       "      <td>90</td>\n",
       "      <td>?</td>\n",
       "      <td>9</td>\n",
       "      <td>Widowed</td>\n",
       "      <td>Not-in-family</td>\n",
       "      <td>Female</td>\n",
       "      <td>0</td>\n",
       "      <td>United-States</td>\n",
       "      <td>&lt;=50K</td>\n",
       "    </tr>\n",
       "    <tr>\n",
       "      <th>1</th>\n",
       "      <td>82</td>\n",
       "      <td>Private</td>\n",
       "      <td>9</td>\n",
       "      <td>Widowed</td>\n",
       "      <td>Not-in-family</td>\n",
       "      <td>Female</td>\n",
       "      <td>0</td>\n",
       "      <td>United-States</td>\n",
       "      <td>&lt;=50K</td>\n",
       "    </tr>\n",
       "    <tr>\n",
       "      <th>2</th>\n",
       "      <td>66</td>\n",
       "      <td>?</td>\n",
       "      <td>10</td>\n",
       "      <td>Widowed</td>\n",
       "      <td>Unmarried</td>\n",
       "      <td>Female</td>\n",
       "      <td>0</td>\n",
       "      <td>United-States</td>\n",
       "      <td>&lt;=50K</td>\n",
       "    </tr>\n",
       "    <tr>\n",
       "      <th>3</th>\n",
       "      <td>54</td>\n",
       "      <td>Private</td>\n",
       "      <td>4</td>\n",
       "      <td>Divorced</td>\n",
       "      <td>Unmarried</td>\n",
       "      <td>Female</td>\n",
       "      <td>0</td>\n",
       "      <td>United-States</td>\n",
       "      <td>&lt;=50K</td>\n",
       "    </tr>\n",
       "    <tr>\n",
       "      <th>4</th>\n",
       "      <td>41</td>\n",
       "      <td>Private</td>\n",
       "      <td>10</td>\n",
       "      <td>Separated</td>\n",
       "      <td>Own-child</td>\n",
       "      <td>Female</td>\n",
       "      <td>0</td>\n",
       "      <td>United-States</td>\n",
       "      <td>&lt;=50K</td>\n",
       "    </tr>\n",
       "  </tbody>\n",
       "</table>\n",
       "</div>"
      ],
      "text/plain": [
       "   age workclass  education.num marital.status   relationship     sex  \\\n",
       "0   90         ?              9        Widowed  Not-in-family  Female   \n",
       "1   82   Private              9        Widowed  Not-in-family  Female   \n",
       "2   66         ?             10        Widowed      Unmarried  Female   \n",
       "3   54   Private              4       Divorced      Unmarried  Female   \n",
       "4   41   Private             10      Separated      Own-child  Female   \n",
       "\n",
       "   capital.gain native.country income  \n",
       "0             0  United-States  <=50K  \n",
       "1             0  United-States  <=50K  \n",
       "2             0  United-States  <=50K  \n",
       "3             0  United-States  <=50K  \n",
       "4             0  United-States  <=50K  "
      ]
     },
     "execution_count": 1,
     "metadata": {},
     "output_type": "execute_result"
    }
   ],
   "source": [
    "import pandas as pd\n",
    "import numpy as np\n",
    "df=pd.read_csv('data.csv')\n",
    "\n",
    "df.drop(columns=['hours.per.week','capital.loss','race','fnlwgt','education','occupation'],inplace=True)\n",
    "\n",
    "df.head()"
   ]
  },
  {
   "cell_type": "code",
   "execution_count": 2,
   "id": "3b8bbf32",
   "metadata": {},
   "outputs": [],
   "source": [
    "from sklearn.model_selection import train_test_split\n",
    "X_train,X_test,y_train,y_test=train_test_split(df.drop(columns=['income']),df.income,test_size=0.2,random_state=42)"
   ]
  },
  {
   "cell_type": "markdown",
   "id": "200d9db2",
   "metadata": {},
   "source": [
    "Column Transformer"
   ]
  },
  {
   "cell_type": "code",
   "execution_count": 3,
   "id": "b3166973",
   "metadata": {},
   "outputs": [],
   "source": [
    "from sklearn.compose import ColumnTransformer\n",
    "from sklearn.preprocessing import OneHotEncoder\n",
    "col=ColumnTransformer(\n",
    "    \n",
    "    transformers=[\n",
    "        ('OHE',OneHotEncoder(sparse_output=False,dtype='int'),['workclass','marital.status','relationship','sex','native.country'])\n",
    "    ] ,remainder='passthrough'\n",
    ")"
   ]
  },
  {
   "cell_type": "code",
   "execution_count": 4,
   "id": "9ce43e6c",
   "metadata": {},
   "outputs": [],
   "source": [
    "X_train_tnf=col.fit_transform(X_train)\n",
    "X_test_tnf=col.transform(X_test)"
   ]
  },
  {
   "cell_type": "markdown",
   "id": "922abaca",
   "metadata": {},
   "source": [
    "Pipeline"
   ]
  },
  {
   "cell_type": "code",
   "execution_count": 5,
   "id": "f7256f25",
   "metadata": {},
   "outputs": [
    {
     "name": "stderr",
     "output_type": "stream",
     "text": [
      "d:\\Coding Stuff\\Channel\\Machine Learning\\venv\\Lib\\site-packages\\sklearn\\linear_model\\_logistic.py:465: ConvergenceWarning: lbfgs failed to converge (status=1):\n",
      "STOP: TOTAL NO. OF ITERATIONS REACHED LIMIT.\n",
      "\n",
      "Increase the number of iterations (max_iter) or scale the data as shown in:\n",
      "    https://scikit-learn.org/stable/modules/preprocessing.html\n",
      "Please also refer to the documentation for alternative solver options:\n",
      "    https://scikit-learn.org/stable/modules/linear_model.html#logistic-regression\n",
      "  n_iter_i = _check_optimize_result(\n"
     ]
    },
    {
     "data": {
      "text/plain": [
       "array(['<=50K', '<=50K', '<=50K', ..., '<=50K', '<=50K', '<=50K'],\n",
       "      dtype=object)"
      ]
     },
     "execution_count": 5,
     "metadata": {},
     "output_type": "execute_result"
    }
   ],
   "source": [
    "from sklearn.linear_model import LogisticRegression\n",
    "from sklearn.pipeline import Pipeline \n",
    "\n",
    "model=LogisticRegression(random_state=42)\n",
    "pipe=Pipeline(\n",
    "    steps=[\n",
    "        ('col',col),\n",
    "        ('model',model)\n",
    "    ]\n",
    ")\n",
    "\n",
    "pipe.fit(X_train,y_train)\n",
    "pipe.predict(X_test)"
   ]
  },
  {
   "cell_type": "markdown",
   "id": "c93f4899",
   "metadata": {},
   "source": [
    "Checking Accuracy"
   ]
  },
  {
   "cell_type": "code",
   "execution_count": 6,
   "id": "ab761c30",
   "metadata": {},
   "outputs": [],
   "source": [
    "train_acc=pipe.score(X_train,y_train)\n",
    "\n",
    "test_acc=pipe.score(X_test,y_test)"
   ]
  },
  {
   "cell_type": "code",
   "execution_count": 7,
   "id": "a2641365",
   "metadata": {},
   "outputs": [
    {
     "name": "stdout",
     "output_type": "stream",
     "text": [
      "Training Accuracy=0.8131910319410319\n",
      "Test accuracy=0.8105327805926609\n"
     ]
    }
   ],
   "source": [
    "print(f'Training Accuracy={train_acc}\\nTest accuracy={test_acc}')"
   ]
  },
  {
   "cell_type": "markdown",
   "id": "e364e447",
   "metadata": {},
   "source": [
    "Importing the model"
   ]
  },
  {
   "cell_type": "code",
   "execution_count": 8,
   "id": "8f3de5af",
   "metadata": {},
   "outputs": [
    {
     "data": {
      "text/plain": [
       "['with_pipeline.pkl']"
      ]
     },
     "execution_count": 8,
     "metadata": {},
     "output_type": "execute_result"
    }
   ],
   "source": [
    "import joblib\n",
    "\n",
    "joblib.dump(\n",
    "    {\n",
    "        'pipe':pipe\n",
    "    }, 'with_pipeline.pkl'\n",
    ")"
   ]
  }
 ],
 "metadata": {
  "kernelspec": {
   "display_name": "venv",
   "language": "python",
   "name": "python3"
  },
  "language_info": {
   "codemirror_mode": {
    "name": "ipython",
    "version": 3
   },
   "file_extension": ".py",
   "mimetype": "text/x-python",
   "name": "python",
   "nbconvert_exporter": "python",
   "pygments_lexer": "ipython3",
   "version": "3.12.5"
  }
 },
 "nbformat": 4,
 "nbformat_minor": 5
}
